{
  "nbformat": 4,
  "nbformat_minor": 0,
  "metadata": {
    "colab": {
      "name": "Working with List.ipynb",
      "provenance": [],
      "collapsed_sections": [],
      "authorship_tag": "ABX9TyNJN4BC8sHygx7G9f5NKvgu",
      "include_colab_link": true
    },
    "kernelspec": {
      "name": "python3",
      "display_name": "Python 3"
    },
    "language_info": {
      "name": "python"
    }
  },
  "cells": [
    {
      "cell_type": "markdown",
      "metadata": {
        "id": "view-in-github",
        "colab_type": "text"
      },
      "source": [
        "<a href=\"https://colab.research.google.com/github/mallarapushiva/python-by-Eric-matthes/blob/main/Basics/Working_with_List.ipynb\" target=\"_parent\"><img src=\"https://colab.research.google.com/assets/colab-badge.svg\" alt=\"Open In Colab\"/></a>"
      ]
    },
    {
      "cell_type": "markdown",
      "metadata": {
        "id": "a3HoYA9aDYq1"
      },
      "source": [
        "We can use for loop in list to avoid repitive lines of code "
      ]
    },
    {
      "cell_type": "code",
      "metadata": {
        "colab": {
          "base_uri": "https://localhost:8080/"
        },
        "id": "oFMmp69HErJT",
        "outputId": "71869312-3a69-4c8c-8716-424e8f9d3fd6"
      },
      "source": [
        "# examle\n",
        "friends=[\"shiva\",\"vivek\",\"sharath\",\"chandu\"]\n",
        "for friend in friends:\n",
        "  print(friend.title()+\" how are you\")\n",
        "  "
      ],
      "execution_count": null,
      "outputs": [
        {
          "output_type": "stream",
          "name": "stdout",
          "text": [
            "Shiva how are you\n",
            "Vivek how are you\n",
            "Sharath how are you\n",
            "Chandu how are you\n"
          ]
        }
      ]
    },
    {
      "cell_type": "markdown",
      "metadata": {
        "id": "ew2WYToOHKFK"
      },
      "source": [
        "# Try It Yourself\n"
      ]
    },
    {
      "cell_type": "markdown",
      "metadata": {
        "id": "iAVDxLi0H63r"
      },
      "source": [
        ". Pizzas: Think of at least three kinds of your favorite pizza. Store these\n",
        "pizza names in a list, and then use a for loop to print the name of each pizza."
      ]
    },
    {
      "cell_type": "code",
      "metadata": {
        "colab": {
          "base_uri": "https://localhost:8080/"
        },
        "id": "yYXlEKWMH43N",
        "outputId": "11f6921e-aa65-4915-b53f-a693d45f80e7"
      },
      "source": [
        "pizzas=[\"popper pizza\",\"chilly pizza\",\"veg pizza\"]\n",
        "for pizza in pizzas:\n",
        "  print(\"list of pizzas are :{}\".format(pizza))"
      ],
      "execution_count": null,
      "outputs": [
        {
          "output_type": "stream",
          "name": "stdout",
          "text": [
            "list of pizzas are :popper pizza\n",
            "list of pizzas are :chilly pizza\n",
            "list of pizzas are :veg pizza\n"
          ]
        }
      ]
    },
    {
      "cell_type": "markdown",
      "metadata": {
        "id": "ARSzSTNfIsMe"
      },
      "source": [
        "Modify your for loop to print a sentence using the name of the pizza\n",
        "instead of printing just the name of the pizza. For each pizza you should\n",
        "have one line of output containing a simple statement like I like pepperoni\n",
        "pizza."
      ]
    },
    {
      "cell_type": "code",
      "metadata": {
        "colab": {
          "base_uri": "https://localhost:8080/"
        },
        "id": "cTLCzs2ZIXjK",
        "outputId": "fdd12dbd-9840-43f9-f4a2-6b56da19618c"
      },
      "source": [
        "for pizza in pizzas:\n",
        "  print(\"i like \"+ pizza)\n",
        "# adding conclusion that prints only once\n",
        "print(\"\\n\")#Adding  a new line\n",
        "print(\"i love all kinds pizzas\")"
      ],
      "execution_count": null,
      "outputs": [
        {
          "output_type": "stream",
          "name": "stdout",
          "text": [
            "i like popper pizza\n",
            "i like chilly pizza\n",
            "i like veg pizza\n",
            "\n",
            "\n",
            "i love all kinds pizzas\n"
          ]
        }
      ]
    },
    {
      "cell_type": "markdown",
      "metadata": {
        "id": "yGikzGIHJOGl"
      },
      "source": [
        ""
      ]
    },
    {
      "cell_type": "markdown",
      "metadata": {
        "id": "5ezTq3CkOaeu"
      },
      "source": [
        "# Numaric List"
      ]
    },
    {
      "cell_type": "markdown",
      "metadata": {
        "id": "2wlLO5xIOfYL"
      },
      "source": [
        "To create series of numaric list we can use **range(start,end,step)**"
      ]
    },
    {
      "cell_type": "code",
      "metadata": {
        "id": "ZsLZp9B5JHRj",
        "colab": {
          "base_uri": "https://localhost:8080/"
        },
        "outputId": "a20aaf01-6637-45f0-fc16-97372afc4654"
      },
      "source": [
        "lis_1=list(range(1,10))\n",
        "print(lis_1)"
      ],
      "execution_count": null,
      "outputs": [
        {
          "output_type": "stream",
          "name": "stdout",
          "text": [
            "[1, 2, 3, 4, 5, 6, 7, 8, 9]\n"
          ]
        }
      ]
    },
    {
      "cell_type": "markdown",
      "metadata": {
        "id": "_lrywxOVO72E"
      },
      "source": [
        "print even numbers between 1 to 20"
      ]
    },
    {
      "cell_type": "code",
      "metadata": {
        "colab": {
          "base_uri": "https://localhost:8080/"
        },
        "id": "LxAzh3A3O40U",
        "outputId": "c0d44900-6e98-40b4-e926-97c086d6b200"
      },
      "source": [
        "# we create an emty array\n",
        "even_numbers=[]\n",
        "for value in range(0,21,2):\n",
        "# we are adding value to variable\n",
        "  even_numbers.append(value)\n",
        "print(\"even numbers are :{}\".format(even_numbers))"
      ],
      "execution_count": null,
      "outputs": [
        {
          "output_type": "stream",
          "name": "stdout",
          "text": [
            "even numbers are :[0, 2, 4, 6, 8, 10, 12, 14, 16, 18, 20]\n"
          ]
        }
      ]
    },
    {
      "cell_type": "markdown",
      "metadata": {
        "id": "GYJDg5Uo1nxp"
      },
      "source": [
        "**Simple Statistics with a List of Numbers**"
      ]
    },
    {
      "cell_type": "code",
      "metadata": {
        "id": "rVeTUAICPhc-",
        "colab": {
          "base_uri": "https://localhost:8080/"
        },
        "outputId": "ebb0088e-9cad-42aa-cbb0-db97aec89f66"
      },
      "source": [
        "lis_2=[1,3,24,14,1,2,33,53,45,7]\n",
        "print(\"minimum number is :{}\".format(min(lis_2)))\n",
        "print(\"minimum number is :{}\".format(max(lis_2)))\n",
        "print(\"minimum number is :{}\".format(sum(lis_2)))"
      ],
      "execution_count": null,
      "outputs": [
        {
          "output_type": "stream",
          "name": "stdout",
          "text": [
            "minimum number is :1\n",
            "minimum number is :53\n",
            "minimum number is :183\n"
          ]
        }
      ]
    },
    {
      "cell_type": "markdown",
      "metadata": {
        "id": "vrzB5bea3knp"
      },
      "source": [
        "**list comprehensions** "
      ]
    },
    {
      "cell_type": "markdown",
      "metadata": {
        "id": "7vbxB7t04NIH"
      },
      "source": [
        "It writes the code of for loop and its statement in one line\n",
        "i woun't recommend you ,because it is mach less readble."
      ]
    },
    {
      "cell_type": "code",
      "metadata": {
        "colab": {
          "base_uri": "https://localhost:8080/"
        },
        "id": "PqQqk51A3kNf",
        "outputId": "1a4bf928-de9f-42c6-ea4b-22104ef87ce0"
      },
      "source": [
        "digits=[digit for digit in range(1,11)]\n",
        "print(\"By using list comprehension :{}\".format(digits))"
      ],
      "execution_count": null,
      "outputs": [
        {
          "output_type": "stream",
          "name": "stdout",
          "text": [
            "By using list comprehension :[1, 2, 3, 4, 5, 6, 7, 8, 9, 10]\n"
          ]
        }
      ]
    },
    {
      "cell_type": "markdown",
      "metadata": {
        "id": "g2-KFNv65SPe"
      },
      "source": [
        "# Try It Yourself"
      ]
    },
    {
      "cell_type": "markdown",
      "metadata": {
        "id": "af5j2ph75lrQ"
      },
      "source": [
        "*. One Million: Make a list of the numbers from one to one million, and then \n",
        "use a for loop to print the numbers. (If the output is taking too long, stop it by \n",
        "pressing ctrl-C or by closing the output window.)*"
      ]
    },
    {
      "cell_type": "code",
      "metadata": {
        "colab": {
          "base_uri": "https://localhost:8080/"
        },
        "id": "MWphWKBO5R54",
        "outputId": "db792057-fd6b-49fb-f05d-fb18716c0ff7"
      },
      "source": [
        "million=[]\n",
        "for value in range(1,1000001):#1 to one million number\n",
        "  million.append(value)\n",
        "print(million)\n",
        "# READ BELLOW"
      ],
      "execution_count": null,
      "outputs": [
        {
          "output_type": "stream",
          "name": "stderr",
          "text": [
            "IOPub data rate exceeded.\n",
            "The notebook server will temporarily stop sending output\n",
            "to the client in order to avoid crashing it.\n",
            "To change this limit, set the config variable\n",
            "`--NotebookApp.iopub_data_rate_limit`.\n",
            "\n",
            "Current values:\n",
            "NotebookApp.iopub_data_rate_limit=1000000.0 (bytes/sec)\n",
            "NotebookApp.rate_limit_window=3.0 (secs)\n",
            "\n"
          ]
        }
      ]
    },
    {
      "cell_type": "markdown",
      "metadata": {
        "id": "SsYnm2ao6oJR"
      },
      "source": [
        "*. Odd Numbers: Use the third argument of the range() function to make a list \n",
        "of the odd numbers from 1 to 20. Use a for loop to print each number*"
      ]
    },
    {
      "cell_type": "code",
      "metadata": {
        "colab": {
          "base_uri": "https://localhost:8080/"
        },
        "id": "eleswuDF6nwk",
        "outputId": "975e810e-94c2-4650-b75f-242ba0c391bd"
      },
      "source": [
        "odd_number=[]#creating emty list\n",
        "for value in range(1,21,2):#step=2 which means take element by step=2\n",
        "  odd_number.append(value)\n",
        "print(odd_number)"
      ],
      "execution_count": null,
      "outputs": [
        {
          "output_type": "stream",
          "name": "stdout",
          "text": [
            "[1, 3, 5, 7, 9, 11, 13, 15, 17, 19]\n"
          ]
        }
      ]
    },
    {
      "cell_type": "markdown",
      "metadata": {
        "id": "TSeFOcrj70P9"
      },
      "source": [
        "*Threes: Make a list of the multiples of 3 from 3 to 30. Use a for loop to \n",
        "print the numbers in your list.*"
      ]
    },
    {
      "cell_type": "code",
      "metadata": {
        "colab": {
          "base_uri": "https://localhost:8080/"
        },
        "id": "WL3Z9oqU7zyq",
        "outputId": "651d5ce9-60bb-4a56-c2c1-a8ad76459a10"
      },
      "source": [
        "threes=[]#emty list\n",
        "for three in range(3,31):#range 3 to 30\n",
        "  \n",
        "  threes.append(three*3)\n",
        "print(threes)"
      ],
      "execution_count": null,
      "outputs": [
        {
          "output_type": "stream",
          "name": "stdout",
          "text": [
            "[9, 12, 15, 18, 21, 24, 27, 30, 33, 36, 39, 42, 45, 48, 51, 54, 57, 60, 63, 66, 69, 72, 75, 78, 81, 84, 87, 90]\n"
          ]
        }
      ]
    },
    {
      "cell_type": "markdown",
      "metadata": {
        "id": "Mu8YFCx685gl"
      },
      "source": [
        "Cubes: A number raised to the third power is called a cube. For example, \n",
        "the cube of 2 is written as 2**3 in Python. Make a list of the first 10 cubes (that \n",
        "is, the cube of each integer from 1 through 10), and use a for loop to print out \n",
        "the value of each cube."
      ]
    },
    {
      "cell_type": "code",
      "metadata": {
        "colab": {
          "base_uri": "https://localhost:8080/"
        },
        "id": "YAK0Mdx9-CX_",
        "outputId": "627ee400-26e9-4d38-babf-a50e37918d23"
      },
      "source": [
        "cubes=[]#empy list\n",
        "for cube in range(1,11): #itteration 1 to 10\n",
        "  cubes.append(cube**3)\n",
        "print(\"cubes list from 1 to 10 :{} \".format(cubes))"
      ],
      "execution_count": null,
      "outputs": [
        {
          "output_type": "stream",
          "name": "stdout",
          "text": [
            "cubes list from 1 to 10 :[1, 8, 27, 64, 125, 216, 343, 512, 729, 1000] \n"
          ]
        }
      ]
    },
    {
      "cell_type": "markdown",
      "metadata": {
        "id": "RSUnFCPT-DZH"
      },
      "source": [
        "Cube Comprehension: Use a list comprehension to generate a list of the \n",
        "first 10 cubes.\n"
      ]
    },
    {
      "cell_type": "code",
      "metadata": {
        "colab": {
          "base_uri": "https://localhost:8080/"
        },
        "id": "XMCSYszs7zrY",
        "outputId": "da9961b9-5566-49a0-ae84-42267aef7da0"
      },
      "source": [
        "# lets try this with list comprehensions\n",
        "\n",
        "cubes=[cube**3 for cube in range(1,11)]\n",
        "print(\"cubes list from 1 to 10 :{} \".format(cubes))\n"
      ],
      "execution_count": null,
      "outputs": [
        {
          "output_type": "stream",
          "name": "stdout",
          "text": [
            "cubes list from 1 to 10 :[1, 8, 27, 64, 125, 216, 343, 512, 729, 1000] \n"
          ]
        }
      ]
    },
    {
      "cell_type": "markdown",
      "metadata": {
        "id": "zSi7Rc3qJLvS"
      },
      "source": [
        "#*slicing*"
      ]
    },
    {
      "cell_type": "markdown",
      "metadata": {
        "id": "f5vepE5SJYg6"
      },
      "source": [
        "Slices: Using one of the programs you wrote in this chapter, add several \n",
        "lines to the end of the program that do the following:\n",
        "•\t Print the message, The first three items in the list are:. Then use a slice to \n",
        "print the first three items from that program’s list\n",
        "\n",
        "Print the message, Three items from the middle of the list are:. Use a slice to print three items from the middle of the list\n",
        "\n",
        "Print the message, The last three items in the list are:. Use a slice to print \n",
        "the last three items in the list"
      ]
    },
    {
      "cell_type": "code",
      "metadata": {
        "id": "GoMg1fEg2EOB",
        "colab": {
          "base_uri": "https://localhost:8080/"
        },
        "outputId": "46f8c4e6-6bce-489d-8b17-89fad3c919f3"
      },
      "source": [
        "lis_4=[\"shiva\",\"vivek\",\"srikanth\",\"chandu\",\"mahesh\"]\n",
        "print(\"The first three items in the list are : {}\".format(lis_4[0:3]))\n",
        "print(\"middle of the list: {}\".format(lis_4[1:4]))\n",
        "print(\"The last three items in the list are : {}\".format(lis_4[-3:]))"
      ],
      "execution_count": 30,
      "outputs": [
        {
          "output_type": "stream",
          "name": "stdout",
          "text": [
            "The first three items in the list are : ['shiva', 'vivek', 'srikanth']\n",
            "middle of the list: ['vivek', 'srikanth', 'chandu']\n",
            "The last three items in the list are : ['srikanth', 'chandu', 'mahesh']\n"
          ]
        }
      ]
    },
    {
      "cell_type": "markdown",
      "metadata": {
        "id": "l5lH6Zw_LPWL"
      },
      "source": [
        " My Pizzas, Your Pizzas: Start with your program from Exercise 4-1 \n",
        "(page 60). Make a copy of the list of pizzas, and call it friend_pizzas.\n",
        "Then, do the following:\n",
        "\n",
        "•\t Add a new pizza to the original list'\n",
        "\n",
        "•\t Add a different pizza to the list friend_pizzas.\n",
        "\n",
        "•\t Prove that you have two separate lists. Print the message, My favorite \n",
        "pizzas are:, and then use a for loop to print the first list. Print the message, My friend’s favorite pizzas are:, and then use a for loop to print the sec\u0002ond list. Make sure each new pizza is stored in the appropriate list"
      ]
    },
    {
      "cell_type": "code",
      "metadata": {
        "colab": {
          "base_uri": "https://localhost:8080/"
        },
        "id": "8hmpuOZdLO8i",
        "outputId": "2f564433-377b-4685-a52a-a585877bd444"
      },
      "source": [
        "pizza=[\"popper pizza\",\"chilly pizza\",\"veg pizza\"]\n",
        "frind_pizza=pizza[:]\n",
        "# adding new pizza\n",
        "print(pizza.append(\"pizza_1\"))\n",
        "# adding new pizza to copylist\n",
        "print(frind_pizza.append(\"pizza_2\"))\n",
        "# print statement \n",
        "for i in pizza:\n",
        "  print(\"My favorite pizzas are :{}\".format(i))\n",
        "print(\"\")\n",
        "for i in frind_pizza:\n",
        "   print(\"My friend favorite pizzas are :{}\".format(i))"
      ],
      "execution_count": 34,
      "outputs": [
        {
          "output_type": "stream",
          "name": "stdout",
          "text": [
            "None\n",
            "None\n",
            "My favorite pizzas are :popper pizza\n",
            "My favorite pizzas are :chilly pizza\n",
            "My favorite pizzas are :veg pizza\n",
            "My favorite pizzas are :pizza_1\n",
            "\n",
            "My friend favorite pizzas are :popper pizza\n",
            "My friend favorite pizzas are :chilly pizza\n",
            "My friend favorite pizzas are :veg pizza\n",
            "My friend favorite pizzas are :pizza_2\n"
          ]
        }
      ]
    },
    {
      "cell_type": "code",
      "metadata": {
        "id": "tIatH_t5LO5S"
      },
      "source": [
        ""
      ],
      "execution_count": null,
      "outputs": []
    },
    {
      "cell_type": "code",
      "metadata": {
        "id": "HV_wVnq4LO2a"
      },
      "source": [
        ""
      ],
      "execution_count": null,
      "outputs": []
    },
    {
      "cell_type": "code",
      "metadata": {
        "id": "rjSnSzdnLOzY"
      },
      "source": [
        ""
      ],
      "execution_count": null,
      "outputs": []
    },
    {
      "cell_type": "code",
      "metadata": {
        "id": "4_NQNR-5LOu4"
      },
      "source": [
        ""
      ],
      "execution_count": null,
      "outputs": []
    },
    {
      "cell_type": "code",
      "metadata": {
        "id": "GhJhgcN8JKXo"
      },
      "source": [
        ""
      ],
      "execution_count": null,
      "outputs": []
    }
  ]
}