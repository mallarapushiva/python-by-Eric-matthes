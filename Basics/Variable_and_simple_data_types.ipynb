{
  "nbformat": 4,
  "nbformat_minor": 0,
  "metadata": {
    "kernelspec": {
      "display_name": "Python 3",
      "language": "python",
      "name": "python3"
    },
    "language_info": {
      "codemirror_mode": {
        "name": "ipython",
        "version": 3
      },
      "file_extension": ".py",
      "mimetype": "text/x-python",
      "name": "python",
      "nbconvert_exporter": "python",
      "pygments_lexer": "ipython3",
      "version": "3.8.5"
    },
    "colab": {
      "name": "Variable and simple data types.ipynb",
      "provenance": [],
      "include_colab_link": true
    }
  },
  "cells": [
    {
      "cell_type": "markdown",
      "metadata": {
        "id": "view-in-github",
        "colab_type": "text"
      },
      "source": [
        "<a href=\"https://colab.research.google.com/github/mallarapushiva/python-by-Eric-matthes/blob/main/Basics/Variable_and_simple_data_types.ipynb\" target=\"_parent\"><img src=\"https://colab.research.google.com/assets/colab-badge.svg\" alt=\"Open In Colab\"/></a>"
      ]
    },
    {
      "cell_type": "markdown",
      "metadata": {
        "id": "6luV5NMJFT7O"
      },
      "source": [
        "# Variable"
      ]
    },
    {
      "cell_type": "markdown",
      "metadata": {
        "id": "baYARacHFT7R"
      },
      "source": [
        "#### Reserved variable is Memory location to store Value"
      ]
    },
    {
      "cell_type": "code",
      "metadata": {
        "id": "wL8wHJ1hFT7T"
      },
      "source": [
        "# example\n",
        "variable=\"RDS is guy with open heart\""
      ],
      "execution_count": null,
      "outputs": []
    },
    {
      "cell_type": "code",
      "metadata": {
        "id": "UHqE1l-mFT7U",
        "outputId": "4a216f0f-6022-4ab7-9ce4-04d6caf29611"
      },
      "source": [
        "# now we are calling variable by print function\n",
        "print(variable)"
      ],
      "execution_count": null,
      "outputs": [
        {
          "name": "stdout",
          "output_type": "stream",
          "text": [
            "RDS is guy with open heart\n"
          ]
        }
      ]
    },
    {
      "cell_type": "markdown",
      "metadata": {
        "id": "tVwsN-knFT7W"
      },
      "source": [
        "#### Rules to remenber to use variables"
      ]
    },
    {
      "cell_type": "raw",
      "metadata": {
        "id": "lypOAwWAFT7W"
      },
      "source": [
        "-->variable are letters,number(0-9),underscore(_).\n",
        "-->Variable is can start with latters and underscore,Not with numbers\n",
        "Ex:-  _numbers,first_name,Not use:- 4shag,2_bdhv\n",
        "-->don't use reserved words such as print(),int,pop(),insert()\n",
        "-->To seperat words we use (_) underscore not white space\n"
      ]
    },
    {
      "cell_type": "markdown",
      "metadata": {
        "id": "ckd6SJpBFT7X"
      },
      "source": [
        "### String"
      ]
    },
    {
      "cell_type": "markdown",
      "metadata": {
        "id": "mFbCiPk1FT7X"
      },
      "source": [
        "#### String is sequence of characters ,antthing inside single quotes or double quotes"
      ]
    },
    {
      "cell_type": "code",
      "metadata": {
        "id": "5-v1moniFT7X"
      },
      "source": [
        "# Examples\n",
        "student_name=\"shiva\""
      ],
      "execution_count": null,
      "outputs": []
    },
    {
      "cell_type": "code",
      "metadata": {
        "id": "W4wi8M9XFT7Y",
        "outputId": "8cd1a13d-057d-4f9c-97c8-8d7626d352ed"
      },
      "source": [
        "student_name"
      ],
      "execution_count": null,
      "outputs": [
        {
          "data": {
            "text/plain": [
              "'shiva'"
            ]
          },
          "execution_count": 4,
          "metadata": {},
          "output_type": "execute_result"
        }
      ]
    },
    {
      "cell_type": "markdown",
      "metadata": {
        "id": "dMWTACR7FT7Z"
      },
      "source": [
        "### Errors are improve your thincking knowledge"
      ]
    },
    {
      "cell_type": "code",
      "metadata": {
        "id": "I3utuFLuFT7Z",
        "outputId": "8438c14d-9987-4d95-c6f4-b70fc09c486a"
      },
      "source": [
        "\n",
        "'hello !,shiva i'm raju'"
      ],
      "execution_count": null,
      "outputs": [
        {
          "ename": "SyntaxError",
          "evalue": "invalid syntax (<ipython-input-8-b4a5d2c63d2b>, line 1)",
          "output_type": "error",
          "traceback": [
            "\u001b[1;36m  File \u001b[1;32m\"<ipython-input-8-b4a5d2c63d2b>\"\u001b[1;36m, line \u001b[1;32m1\u001b[0m\n\u001b[1;33m    'hello !,shiva i'm raju'\u001b[0m\n\u001b[1;37m                     ^\u001b[0m\n\u001b[1;31mSyntaxError\u001b[0m\u001b[1;31m:\u001b[0m invalid syntax\n"
          ]
        }
      ]
    },
    {
      "cell_type": "code",
      "metadata": {
        "id": "ZmggaRsHFT7a",
        "outputId": "48f87cfc-9216-454b-96c5-4b21b3a7ed56"
      },
      "source": [
        "# another type\n",
        "\"hello !,shiav i'm raju\""
      ],
      "execution_count": null,
      "outputs": [
        {
          "data": {
            "text/plain": [
              "\"hello !,shiav i'm raju\""
            ]
          },
          "execution_count": 9,
          "metadata": {},
          "output_type": "execute_result"
        }
      ]
    },
    {
      "cell_type": "markdown",
      "metadata": {
        "id": "Mhk7tQBOFT7a"
      },
      "source": [
        "## Changing Case in a String with Methods"
      ]
    },
    {
      "cell_type": "code",
      "metadata": {
        "id": "cGc6JERCFT7b",
        "outputId": "c4b393ea-b3bc-47c6-9e79-4066ead739cb"
      },
      "source": [
        "first_name=\"shiva\"\n",
        "last_name=\"mallarapu\"\n",
        "full_name=first_name +\" \"+ last_name\n",
        "full_name"
      ],
      "execution_count": null,
      "outputs": [
        {
          "data": {
            "text/plain": [
              "'shiva mallarapu'"
            ]
          },
          "execution_count": 11,
          "metadata": {},
          "output_type": "execute_result"
        }
      ]
    },
    {
      "cell_type": "code",
      "metadata": {
        "id": "mddHTvZSFT7b",
        "outputId": "d5b2c378-7543-4461-a885-c68e5955ec30"
      },
      "source": [
        "# title()\n",
        "print(\"Hello \" + full_name.title())\n",
        "full_name\n",
        "# It does't change the original string"
      ],
      "execution_count": null,
      "outputs": [
        {
          "name": "stdout",
          "output_type": "stream",
          "text": [
            "Hello Shiva Mallarapu\n"
          ]
        },
        {
          "data": {
            "text/plain": [
              "'shiva mallarapu'"
            ]
          },
          "execution_count": 22,
          "metadata": {},
          "output_type": "execute_result"
        }
      ]
    },
    {
      "cell_type": "code",
      "metadata": {
        "id": "BtM4pWDiFT7b",
        "outputId": "b1a90f3b-c55b-450b-d469-3d715375aa8b"
      },
      "source": [
        "# lower() and upper()\n",
        "print(full_name.lower())\n",
        "print(full_name.upper())"
      ],
      "execution_count": null,
      "outputs": [
        {
          "name": "stdout",
          "output_type": "stream",
          "text": [
            "shiva mallarapu\n",
            "SHIVA MALLARAPU\n"
          ]
        }
      ]
    },
    {
      "cell_type": "markdown",
      "metadata": {
        "id": "mrFNQ0lRFT7c"
      },
      "source": [
        "# Try things"
      ]
    },
    {
      "cell_type": "markdown",
      "metadata": {
        "id": "RscLVyiaFT7c"
      },
      "source": [
        "######  Personal Message: Store a person’s name in a variable, and print a mes\u0002sage to that person. Your message should be simple, such as, “Hello Eric, would you like to learn some Python today?\n"
      ]
    },
    {
      "cell_type": "code",
      "metadata": {
        "id": "8OUig8F6FT7c",
        "outputId": "8eba0c58-69e4-45a9-8468-4510c0fd726e"
      },
      "source": [
        "massage=\"Hello sharath would you like to learn some python today\"\n",
        "massage"
      ],
      "execution_count": null,
      "outputs": [
        {
          "data": {
            "text/plain": [
              "'Hello sharath would you like to learn some python today'"
            ]
          },
          "execution_count": 26,
          "metadata": {},
          "output_type": "execute_result"
        }
      ]
    },
    {
      "cell_type": "markdown",
      "metadata": {
        "id": "bT8B65JdFT7d"
      },
      "source": [
        "###### Name Cases: Store a person’s name in a variable, and then print that per\u0002son’s name in lowercase, uppercase, and titlecase "
      ]
    },
    {
      "cell_type": "code",
      "metadata": {
        "id": "GXKp2xejFT7d",
        "outputId": "e89c82d7-2262-4274-b340-29041f49f8ea"
      },
      "source": [
        "name=\"vivek\"\n",
        "print(\"lower case is :{}\".format(name.lower()))\n",
        "print(\"upper case is :{}\".format(name.upper()))\n",
        "print(\"title mathod is :{}\".format(name.title()))"
      ],
      "execution_count": null,
      "outputs": [
        {
          "name": "stdout",
          "output_type": "stream",
          "text": [
            "lower case is :vivek\n",
            "upper case is :VIVEK\n",
            "title mathod is :Vivek\n"
          ]
        }
      ]
    },
    {
      "cell_type": "markdown",
      "metadata": {
        "id": "6-G9LO3UFT7e"
      },
      "source": [
        "##### Famous Quote: Find a quote from a famous person you admire. Print the quote and the name of its author"
      ]
    },
    {
      "cell_type": "code",
      "metadata": {
        "scrolled": true,
        "id": "IY5yU1hpFT7e",
        "outputId": "fb5e42fd-2ace-451d-aa69-cd4461a9d680"
      },
      "source": [
        "quote=\"\"\"Albert Einstein once said, “A person who never made a \n",
        "mistake never tried anything new.”\"\"\"\n",
        "print(quote)"
      ],
      "execution_count": null,
      "outputs": [
        {
          "name": "stdout",
          "output_type": "stream",
          "text": [
            "Albert Einstein once said, “A person who never made a \n",
            "mistake never tried anything new.”\n"
          ]
        }
      ]
    },
    {
      "cell_type": "code",
      "metadata": {
        "scrolled": true,
        "id": "azn6djVkFT7f",
        "outputId": "7d240042-cd95-48f9-bbb2-ebba6e2a5498"
      },
      "source": [
        "print('Albert Einstein once said, “A person who never made a mistake never tried anything new.”')"
      ],
      "execution_count": null,
      "outputs": [
        {
          "name": "stdout",
          "output_type": "stream",
          "text": [
            "Albert Einstein once said, “A person who never made a mistake never tried anything new.”\n"
          ]
        }
      ]
    },
    {
      "cell_type": "markdown",
      "metadata": {
        "id": "IMKg-9HCFT7f"
      },
      "source": [
        "##### . Famous Quote 2: Repeat Exercise 2-5, but this time store the famous per\u0002son’s name in a variable called famous_person. Then compose your message and store it in a new variable called message. Print your message."
      ]
    },
    {
      "cell_type": "code",
      "metadata": {
        "id": "SBjUdtv-FT7f",
        "outputId": "75248d3c-0c88-44bf-ba61-ad93e3f995a9"
      },
      "source": [
        "famous_person=\"elon mask\"\n",
        "massage=famous_person\n",
        "# here i put extra work or effert is title()\n",
        "print(massage.title())"
      ],
      "execution_count": null,
      "outputs": [
        {
          "name": "stdout",
          "output_type": "stream",
          "text": [
            "Elon Mask\n"
          ]
        }
      ]
    },
    {
      "cell_type": "markdown",
      "metadata": {
        "id": "SOtsbXs4FT7g"
      },
      "source": [
        "###### Stripping Names: Store a person’s name, and include some whitespace characters at the beginning and end of the name. Make sure you use each character combination, \"\\t\" and \"\\n\", at least once.Print the name once, so the whitespace around the name is displayed.Then print the name using each of the three stripping functions, lstrip(), rstrip(), and strip().\n"
      ]
    },
    {
      "cell_type": "code",
      "metadata": {
        "id": "iMcGYPNtFT7g",
        "outputId": "0a25f5b6-6970-41b3-e492-a3c286b50095"
      },
      "source": [
        "print(\"student_name :\\n\\t\\tshiva\\n\\t\\tchandu\\n\\t\\tvivek\\n\\t\\traju\")"
      ],
      "execution_count": null,
      "outputs": [
        {
          "name": "stdout",
          "output_type": "stream",
          "text": [
            "student_name :\n",
            "\t\tshiva\n",
            "\t\tchandu\n",
            "\t\tvivek\n",
            "\t\traju\n"
          ]
        }
      ]
    },
    {
      "cell_type": "code",
      "metadata": {
        "id": "omaR_vguFT7g",
        "outputId": "0b845d2e-d1d8-4627-f08d-37fa267c7083"
      },
      "source": [
        "print(\"Languages:\\nPython\\nC\\nJavaScript\") \n"
      ],
      "execution_count": null,
      "outputs": [
        {
          "name": "stdout",
          "output_type": "stream",
          "text": [
            "Languages:\n",
            "Python\n",
            "C\n",
            "JavaScript\n"
          ]
        }
      ]
    },
    {
      "cell_type": "code",
      "metadata": {
        "id": "ckZyRc9xFT7h",
        "outputId": "39f4eda2-d3ff-4a4b-985d-b57f7e087e39"
      },
      "source": [
        "person_name='-----raju-------'\n",
        "print(person_name)\n",
        "print(\"using lstrip :{}\".format(person_name.lstrip(\"-\")))\n",
        "print(\"using rstrip :{}\".format(person_name.rstrip(\"-\")))\n",
        "print(\"using only strip :{}\".format(person_name.strip(\"-\")))\n"
      ],
      "execution_count": null,
      "outputs": [
        {
          "name": "stdout",
          "output_type": "stream",
          "text": [
            "-----raju-------\n",
            "using lstrip :raju-------\n",
            "using rstrip :-----raju\n",
            "using only strip :raju\n"
          ]
        }
      ]
    },
    {
      "cell_type": "markdown",
      "metadata": {
        "id": "8BYxNT43FT7h"
      },
      "source": [
        "# Numbers"
      ]
    },
    {
      "cell_type": "markdown",
      "metadata": {
        "id": "eH0iARuUFT7h"
      },
      "source": [
        "### integer : Integer is whole number positive ot negative without decimals of unlimited lenth"
      ]
    },
    {
      "cell_type": "markdown",
      "metadata": {
        "id": "TRglVBHtFT7i"
      },
      "source": [
        "### Float : Float is number that contans decimals value"
      ]
    },
    {
      "cell_type": "markdown",
      "metadata": {
        "id": "HBMf1_scFT7i"
      },
      "source": [
        "# Try things"
      ]
    },
    {
      "cell_type": "code",
      "metadata": {
        "id": "9r938-HwFT7i",
        "outputId": "f96bd12c-898c-4fb0-9e28-455aecbdae35"
      },
      "source": [
        "# Number Eight: Write addition, subtraction, multiplication, and division \n",
        "# operations that each result in the number 8. Be sure to enclose your operations \n",
        "# in print statements to see the results. You should create four lines that look \n",
        "# like this:\n",
        "print(\"addition :{}\".format(3+5))\n",
        "print(\"substaction :{}\".format(11-3))\n",
        "print(\"multiply :{}\".format(2*4))\n",
        "print(\"division :{}\".format(64/8))"
      ],
      "execution_count": null,
      "outputs": [
        {
          "name": "stdout",
          "output_type": "stream",
          "text": [
            "addition :8\n",
            "substaction :8\n",
            "multiply :8\n",
            "division :8.0\n"
          ]
        }
      ]
    },
    {
      "cell_type": "code",
      "metadata": {
        "id": "a8GG8ftCFT7i",
        "outputId": "d11ae1d3-decf-4f77-f10e-7a005bfcae1e"
      },
      "source": [
        "# Favorite Number: Store your favorite number in a variable. Then, using \n",
        "# that variable, create a message that reveals your favorite number. Print that \n",
        "# message\n",
        "favorite_number=\"3\"\n",
        "# here it is already a string\n",
        "print(\"Rajee favorite number is \" +favorite_number)\n",
        "print(\"         OR\")\n",
        "favorite_number=5\n",
        "# here we are converting integer into string\n",
        "print(\"RDS favorite number is \" +str(favorite_number))\n"
      ],
      "execution_count": null,
      "outputs": [
        {
          "name": "stdout",
          "output_type": "stream",
          "text": [
            "Rajee favorite number is 3\n",
            "         OR\n",
            "RDS favorite number is 5\n"
          ]
        }
      ]
    },
    {
      "cell_type": "code",
      "metadata": {
        "id": "4c1n7ZzFFT7j",
        "outputId": "ef6e760d-c654-406d-89a1-14b5ca119d59"
      },
      "source": [
        "# python community's philosophy(Zen of python)\n",
        "import this"
      ],
      "execution_count": null,
      "outputs": [
        {
          "name": "stdout",
          "output_type": "stream",
          "text": [
            "The Zen of Python, by Tim Peters\n",
            "\n",
            "Beautiful is better than ugly.\n",
            "Explicit is better than implicit.\n",
            "Simple is better than complex.\n",
            "Complex is better than complicated.\n",
            "Flat is better than nested.\n",
            "Sparse is better than dense.\n",
            "Readability counts.\n",
            "Special cases aren't special enough to break the rules.\n",
            "Although practicality beats purity.\n",
            "Errors should never pass silently.\n",
            "Unless explicitly silenced.\n",
            "In the face of ambiguity, refuse the temptation to guess.\n",
            "There should be one-- and preferably only one --obvious way to do it.\n",
            "Although that way may not be obvious at first unless you're Dutch.\n",
            "Now is better than never.\n",
            "Although never is often better than *right* now.\n",
            "If the implementation is hard to explain, it's a bad idea.\n",
            "If the implementation is easy to explain, it may be a good idea.\n",
            "Namespaces are one honking great idea -- let's do more of those!\n"
          ]
        }
      ]
    },
    {
      "cell_type": "code",
      "metadata": {
        "id": "j4WU5ktXFT7j"
      },
      "source": [
        ""
      ],
      "execution_count": null,
      "outputs": []
    }
  ]
}