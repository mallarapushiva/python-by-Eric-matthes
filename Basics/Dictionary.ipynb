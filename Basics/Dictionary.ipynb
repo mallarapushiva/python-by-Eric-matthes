{
  "nbformat": 4,
  "nbformat_minor": 0,
  "metadata": {
    "colab": {
      "name": "Dictionary.ipynb",
      "provenance": [],
      "collapsed_sections": [],
      "authorship_tag": "ABX9TyPucoj6MNMeJKe3CIFc6OBy",
      "include_colab_link": true
    },
    "kernelspec": {
      "name": "python3",
      "display_name": "Python 3"
    },
    "language_info": {
      "name": "python"
    }
  },
  "cells": [
    {
      "cell_type": "markdown",
      "metadata": {
        "id": "view-in-github",
        "colab_type": "text"
      },
      "source": [
        "<a href=\"https://colab.research.google.com/github/mallarapushiva/python-by-Eric-matthes/blob/main/Basics/Dictionary.ipynb\" target=\"_parent\"><img src=\"https://colab.research.google.com/assets/colab-badge.svg\" alt=\"Open In Colab\"/></a>"
      ]
    },
    {
      "cell_type": "markdown",
      "metadata": {
        "id": "shZI-3mv-nzW"
      },
      "source": [
        "# Dictionary\n",
        "*Dictionaries in python is key-value pairs and key is connected with value by colon and indiviual key-value pairs are divided by comma *\n",
        "* Dictionary is wrapped in {} ,you can stote unlimited key-value pairs*"
      ]
    },
    {
      "cell_type": "code",
      "metadata": {
        "colab": {
          "base_uri": "https://localhost:8080/"
        },
        "id": "YLBoEKmG-ZVc",
        "outputId": "b68f4608-500e-447d-d209-6eefe5fe37a0"
      },
      "source": [
        "# simple dictionry\n",
        "alien={\"color\":\"green\"}\n",
        "# checking Type\n",
        "type(alien)"
      ],
      "execution_count": null,
      "outputs": [
        {
          "output_type": "execute_result",
          "data": {
            "text/plain": [
              "dict"
            ]
          },
          "metadata": {},
          "execution_count": 3
        }
      ]
    },
    {
      "cell_type": "markdown",
      "metadata": {
        "id": "abayRQU1HEL3"
      },
      "source": [
        "Modification"
      ]
    },
    {
      "cell_type": "code",
      "metadata": {
        "colab": {
          "base_uri": "https://localhost:8080/"
        },
        "id": "1cXc_L7NGxSo",
        "outputId": "ca162b0f-3382-4e0a-c667-8c0495ab7ae3"
      },
      "source": [
        "# we can modify the alien color green to yellow\n",
        "alien[\"color\"]=\"yellow\"\n",
        "print(\"Modified alien color :{} \".format(alien))"
      ],
      "execution_count": null,
      "outputs": [
        {
          "output_type": "stream",
          "name": "stdout",
          "text": [
            "Modified alien color :{'color': 'yellow'} \n"
          ]
        }
      ]
    },
    {
      "cell_type": "markdown",
      "metadata": {
        "id": "ozK5rkGnHihP"
      },
      "source": [
        "Adding new key-value pairs"
      ]
    },
    {
      "cell_type": "code",
      "metadata": {
        "colab": {
          "base_uri": "https://localhost:8080/"
        },
        "id": "x5QCsZ4JHVY_",
        "outputId": "61c426d1-ba2b-4e16-d584-5249eca0bc0a"
      },
      "source": [
        "# we are adding alien height\n",
        "alien[\"height\"]=5.6\n",
        "print(alien)"
      ],
      "execution_count": null,
      "outputs": [
        {
          "output_type": "stream",
          "name": "stdout",
          "text": [
            "{'color': 'yellow', 'height': 5.6}\n"
          ]
        }
      ]
    },
    {
      "cell_type": "code",
      "metadata": {
        "colab": {
          "base_uri": "https://localhost:8080/"
        },
        "id": "4DwHQly_H5uA",
        "outputId": "a343a672-3f62-4388-8979-b9f3ae886c23"
      },
      "source": [
        "# we can call the value by using key in dictionary\n",
        "print(alien[\"color\"])\n",
        "print(alien[\"height\"])"
      ],
      "execution_count": null,
      "outputs": [
        {
          "output_type": "stream",
          "name": "stdout",
          "text": [
            "yellow\n",
            "5.6\n"
          ]
        }
      ]
    },
    {
      "cell_type": "markdown",
      "metadata": {
        "id": "lalLEf_uK8wq"
      },
      "source": [
        "6-1. Person: Use a dictionary to store information about a person you know.\n",
        "Store their first name, last name, age, and the city in which they live. You \n",
        "should have keys such as first_name, last_name, age, and city. Print each \n",
        "piece of information stored in your dictionary"
      ]
    },
    {
      "cell_type": "code",
      "metadata": {
        "colab": {
          "base_uri": "https://localhost:8080/"
        },
        "id": "CfM1KRUfIcVV",
        "outputId": "295800de-ddbe-49ee-db3a-3617d9805327"
      },
      "source": [
        "# creating my friend details\n",
        "vivek_details={\"first_name\":\"astikar\",\"last_name\":\"vivek\",\"age\":22,\"city\":\"Hyderabad\"}\n",
        "# calling the each value in dictionary\n",
        "print(\"vivek's first name is : {}\".format(vivek_details[\"first_name\"].title()))\n",
        "print(\"vivek's last name is : {}\".format(vivek_details[\"last_name\"].title()))\n",
        "print(\"vivek's age is : {}\".format(vivek_details[\"age\"]))\n",
        "print(\"vivek's city is : {}\".format(vivek_details[\"city\"]))\n",
        "\n"
      ],
      "execution_count": null,
      "outputs": [
        {
          "output_type": "stream",
          "name": "stdout",
          "text": [
            "vivek's first name is : Astikar\n",
            "vivek's last name is : Vivek\n",
            "vivek's age is : 22\n",
            "vivek's city is : Hyderabad\n"
          ]
        }
      ]
    },
    {
      "cell_type": "markdown",
      "metadata": {
        "id": "l34G0P39QWda"
      },
      "source": [
        " Favorite Numbers: Use a dictionary to store people’s favorite numbers.\n",
        "Think of five names, and use them as keys in your dictionary. Think of a favorite \n",
        "number for each person, and store each as a value in your dictionary. Print \n",
        "each person’s name and their favorite number. For even more fun, poll a few \n",
        "friends and get some actual data for your program."
      ]
    },
    {
      "cell_type": "code",
      "metadata": {
        "id": "KdBWW6ZHMk5T",
        "colab": {
          "base_uri": "https://localhost:8080/"
        },
        "outputId": "2f038917-0162-4229-b304-a5708c2dd726"
      },
      "source": [
        "favorite_number={\"vivek\":2,\"chandu\":7,\"shiva\":6,\"sushank\":76}\n",
        "# Print each person’s name and their favorite number\n",
        "# here i can store key values\n",
        "for i in favorite_number:\n",
        "  # we con't concatinate intiger and string ,so i use str() method \n",
        "  print(i + \"'s\" + \" favorite number is\" + str(favorite_number[i]))\n",
        "  "
      ],
      "execution_count": 46,
      "outputs": [
        {
          "output_type": "stream",
          "name": "stdout",
          "text": [
            "vivek's favorite number is2\n",
            "chandu's favorite number is7\n",
            "shiva's favorite number is6\n",
            "sushank's favorite number is76\n"
          ]
        }
      ]
    },
    {
      "cell_type": "markdown",
      "metadata": {
        "id": "Zgj4TWOn97Bt"
      },
      "source": [
        " Glossary: A Python dictionary can be used to model an actual dictionary.\n",
        "However, to avoid confusion, let’s call it a glossary.\n",
        "\n",
        "•\t Think of five programming words you’ve learned about in the previous \n",
        "chapters. Use these words as the keys in your glossary, and store their \n",
        "meanings as values.\n",
        "\n",
        "•\t Print each word and its meaning as neatly formatted output. You might \n",
        "print the word followed by a colon and then its meaning, or print the word \n",
        "on one line and then print its meaning indented on a second line. Use the \n",
        "newline character (\\n) to insert a blank line between each word-meaning \n",
        "pair in your output."
      ]
    },
    {
      "cell_type": "code",
      "metadata": {
        "id": "5MddmlL6RrYv",
        "colab": {
          "base_uri": "https://localhost:8080/"
        },
        "outputId": "ed4b6f11-722f-4945-8e64-6268bd0e60d9"
      },
      "source": [
        "glossary={\n",
        "    \"string\":\"collaction of characters .\",\n",
        "    \"comment\" : \"note in a program that python interpreter ignores .\",\n",
        "    \"list\":\"collection of items in particular order .\",\n",
        "    \"dictionary\":\"collection of key-value pairs .\"\n",
        "     }\n",
        "word=\"string\"\n",
        "print(f\"\\n{word.title()}:{glossary[word]}\")\n",
        "word=\"comment\"\n",
        "print(f\"\\n{word.title()}:{glossary[word]}\")\n",
        "word=\"list\"\n",
        "print(f\"\\n{word.title()}:{glossary[word]}\")\n",
        "word=\"dictionary\"\n",
        "print(f\"\\n{word.title()}:{glossary[word]}\")"
      ],
      "execution_count": 16,
      "outputs": [
        {
          "output_type": "stream",
          "name": "stdout",
          "text": [
            "\n",
            "String:collaction of characters .\n",
            "\n",
            "Comment:note in a program that python interpreter ignores .\n",
            "\n",
            "List:collection of items in particular order .\n",
            "\n",
            "Dictionary:collection of key-value pairs .\n"
          ]
        }
      ]
    },
    {
      "cell_type": "markdown",
      "metadata": {
        "id": "BOT4i49OEFTf"
      },
      "source": [
        "# Loop through dictionary"
      ]
    },
    {
      "cell_type": "code",
      "metadata": {
        "colab": {
          "base_uri": "https://localhost:8080/"
        },
        "id": "n9OQ7kV7C6SU",
        "outputId": "7340a2b6-1a53-43a5-b6a2-6ff1dd25a809"
      },
      "source": [
        "# one person's use id and first name and last name\n",
        "user={\n",
        "    \"user_id\":\"nethaji\",\n",
        "    \"first_name\":\"asticar\",\n",
        "    \"last_name\":\"vivek\"\n",
        "}\n",
        "for key, value in user.items():\n",
        "  print(\"\\nkey:\" +  key)\n",
        "  print(\"value :\" + value)"
      ],
      "execution_count": 25,
      "outputs": [
        {
          "output_type": "stream",
          "name": "stdout",
          "text": [
            "\n",
            "key:user_id\n",
            "value :nethaji\n",
            "\n",
            "key:first_name\n",
            "value :asticar\n",
            "\n",
            "key:last_name\n",
            "value :vivek\n"
          ]
        }
      ]
    },
    {
      "cell_type": "markdown",
      "metadata": {
        "id": "AGYx-bCKRrtV"
      },
      "source": [
        "Try It Yourself"
      ]
    },
    {
      "cell_type": "markdown",
      "metadata": {
        "id": "Q0B6W3ybRwu7"
      },
      "source": [
        "Glossary 2: Now that you know how to loop through a dictionary, clean \n",
        "up the code from Exercise 6-3 (page 102) by replacing your series of print\n",
        "statements with a loop that runs through the dictionary’s keys and values.\n",
        "When you’re sure that your loop works, add five more Python terms to your \n",
        "glossary. When you run your program again, these new words and meanings \n",
        "should automatically be included in the output."
      ]
    },
    {
      "cell_type": "code",
      "metadata": {
        "colab": {
          "base_uri": "https://localhost:8080/"
        },
        "id": "ZxuT7mluE64d",
        "outputId": "62750642-4b44-449d-d714-2798405b910a"
      },
      "source": [
        "glossary_2={\n",
        "    \"string\":\"collaction of characters .\",\n",
        "    \"comment\" : \"note in a program that python interpreter ignores .\",\n",
        "    \"list\":\"collection of items in particular order .\",\n",
        "    \"dictionary\":\"collection of key-value pairs .\"\n",
        " }\n",
        "new_glossary={\n",
        "    \"variable\":\"reserved block of memory\",\n",
        "    \"keys\":\"it displays the keys in dictionary\",\n",
        "    \"values\":\"it displays the values in dictionary\",\n",
        "    \"set\":\" A set is a collection which is unordered and unindexed. In Python sets are written with curly brackets.\"\n",
        " }\n",
        "for word in glossary_2.keys():\n",
        "  print(f\"\\n{word} : {glossary_2[word]}\")\n",
        "for word_1 in new_glossary.keys():\n",
        "  if word_1 not in glossary_2:\n",
        "    print(f\"\\n{word_1}:{new_glossary[word_1]}\")"
      ],
      "execution_count": 42,
      "outputs": [
        {
          "output_type": "stream",
          "name": "stdout",
          "text": [
            "\n",
            "string : collaction of characters .\n",
            "\n",
            "comment : note in a program that python interpreter ignores .\n",
            "\n",
            "list : collection of items in particular order .\n",
            "\n",
            "dictionary : collection of key-value pairs .\n",
            "\n",
            "variable:reserved block of memory\n",
            "\n",
            "keys:it displays the keys in dictionary\n",
            "\n",
            "values:it displays the values in dictionary\n",
            "\n",
            "set: A set is a collection which is unordered and unindexed. In Python sets are written with curly brackets.\n"
          ]
        }
      ]
    },
    {
      "cell_type": "code",
      "metadata": {
        "id": "ZdWINmxISlbi"
      },
      "source": [
        ""
      ],
      "execution_count": null,
      "outputs": []
    }
  ]
}