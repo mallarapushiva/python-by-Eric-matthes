{
  "nbformat": 4,
  "nbformat_minor": 0,
  "metadata": {
    "colab": {
      "name": "Introducing Lists.ipynb",
      "provenance": [],
      "collapsed_sections": [],
      "authorship_tag": "ABX9TyM3MZw1iDViZdGyziUqWI2I",
      "include_colab_link": true
    },
    "kernelspec": {
      "name": "python3",
      "display_name": "Python 3"
    },
    "language_info": {
      "name": "python"
    }
  },
  "cells": [
    {
      "cell_type": "markdown",
      "metadata": {
        "id": "view-in-github",
        "colab_type": "text"
      },
      "source": [
        "<a href=\"https://colab.research.google.com/github/mallarapushiva/python-by-Eric-matthes/blob/main/Basics/Introducing_Lists.ipynb\" target=\"_parent\"><img src=\"https://colab.research.google.com/assets/colab-badge.svg\" alt=\"Open In Colab\"/></a>"
      ]
    },
    {
      "cell_type": "markdown",
      "metadata": {
        "id": "eu5oEf3cPEET"
      },
      "source": [
        "# LIST"
      ]
    },
    {
      "cell_type": "markdown",
      "metadata": {
        "id": "K31oOxqPPSVN"
      },
      "source": [
        "Defination : list is a collection of items in particular order closed by squere brackets such as[ ]."
      ]
    },
    {
      "cell_type": "code",
      "metadata": {
        "colab": {
          "base_uri": "https://localhost:8080/"
        },
        "id": "MfTACKkSU0ye",
        "outputId": "44815c9a-9c2f-4cac-9c24-0ce9486a0702"
      },
      "source": [
        "# my frinend's name list\n",
        "lis=[\"eric\",\"elon\",\"jeff\",\"modi\"]\n",
        "# print list\n",
        "print(\"list of my friend : {}\".format(lis))"
      ],
      "execution_count": null,
      "outputs": [
        {
          "output_type": "stream",
          "name": "stdout",
          "text": [
            "list of my friend : ['eric', 'elon', 'jeff', 'modi']\n"
          ]
        }
      ]
    },
    {
      "cell_type": "markdown",
      "metadata": {
        "id": "P5YqNlIkRlNe"
      },
      "source": [
        "# **Accessing Elements in a List** "
      ]
    },
    {
      "cell_type": "code",
      "metadata": {
        "colab": {
          "base_uri": "https://localhost:8080/"
        },
        "id": "eeso5VqLRw8d",
        "outputId": "d40ce8ef-d740-4dd7-d0d2-6b9381edf9b3"
      },
      "source": [
        "# Accessing a list by index\n",
        "print(\"first element of the list {}\".format(lis[0]))"
      ],
      "execution_count": null,
      "outputs": [
        {
          "output_type": "stream",
          "name": "stdout",
          "text": [
            "first element of the list eric\n"
          ]
        }
      ]
    },
    {
      "cell_type": "code",
      "metadata": {
        "id": "L4ek__CSR_EH"
      },
      "source": [
        ""
      ],
      "execution_count": null,
      "outputs": []
    },
    {
      "cell_type": "markdown",
      "metadata": {
        "id": "LDVXBBqkSf5z"
      },
      "source": [
        "*you can format the element 'trek' more neatly by using \n",
        "the title() method:\n",
        "*"
      ]
    },
    {
      "cell_type": "code",
      "metadata": {
        "colab": {
          "base_uri": "https://localhost:8080/",
          "height": 35
        },
        "id": "fOhu_kfXSiad",
        "outputId": "6ec89a75-8097-438c-9524-e09fbb5bb630"
      },
      "source": [
        "lis[0].title()"
      ],
      "execution_count": null,
      "outputs": [
        {
          "output_type": "execute_result",
          "data": {
            "application/vnd.google.colaboratory.intrinsic+json": {
              "type": "string"
            },
            "text/plain": [
              "'Eric'"
            ]
          },
          "metadata": {},
          "execution_count": 7
        }
      ]
    },
    {
      "cell_type": "markdown",
      "metadata": {
        "id": "gcBKgvqoTCH7"
      },
      "source": [
        "**Try It Yourself**"
      ]
    },
    {
      "cell_type": "markdown",
      "metadata": {
        "id": "ZFrtHmd3TXlt"
      },
      "source": [
        "* Names: Store the names of a few of your friends in a list called names. Print \n",
        "each person’s name by accessing each element in the list, one at a time*"
      ]
    },
    {
      "cell_type": "code",
      "metadata": {
        "colab": {
          "base_uri": "https://localhost:8080/"
        },
        "id": "f2KESVKJTMPn",
        "outputId": "76a428f8-d14d-4ca2-f184-678db5f374a3"
      },
      "source": [
        "print(\"{} is my friend \".format(lis[0].title()))\n",
        "print(\"{} is my friend \".format(lis[1].title()))\n",
        "print(\"{} is my friend \".format(lis[2].title()))\n",
        "print(\"{} is my friend \".format(lis[3].title()))"
      ],
      "execution_count": null,
      "outputs": [
        {
          "output_type": "stream",
          "name": "stdout",
          "text": [
            "Eric is my friend \n",
            "Elon is my friend \n",
            "Jeff is my friend \n",
            "Modi is my friend \n"
          ]
        }
      ]
    },
    {
      "cell_type": "markdown",
      "metadata": {
        "id": "5EWC5M8BTTF8"
      },
      "source": [
        "* print a message to them. The text of each mes\u0002sage should be the same, but each message should be personalized with the \n",
        "person’s name*"
      ]
    },
    {
      "cell_type": "code",
      "metadata": {
        "colab": {
          "base_uri": "https://localhost:8080/"
        },
        "id": "hIgdM9iaVAtJ",
        "outputId": "79b75306-7b35-44be-9ebf-a1900f6e40f1"
      },
      "source": [
        "print(\"hello ! {} welcome...\".format(lis[0].title()))\n",
        "print(\"hello ! {} welcome...\".format(lis[1].title()))\n",
        "print(\"hello ! {} welcome...\".format(lis[2].title()))\n",
        "print(\"hello ! {} welcome...\".format(lis[3].title()))"
      ],
      "execution_count": null,
      "outputs": [
        {
          "output_type": "stream",
          "name": "stdout",
          "text": [
            "hello ! Eric welcome...\n",
            "hello ! Elon welcome...\n",
            "hello ! Jeff welcome...\n",
            "hello ! Modi welcome...\n"
          ]
        }
      ]
    },
    {
      "cell_type": "markdown",
      "metadata": {
        "id": "tafQ6ymwWNNu"
      },
      "source": [
        "*. Your Own List: Think of your favorite mode of transportation, such as a \n",
        "motorcycle or a car, and make a list that stores several examples. Use your list \n",
        "to print a series of statements about these items, such as “I would like to own a \n",
        "Honda motorcycle.”*"
      ]
    },
    {
      "cell_type": "code",
      "metadata": {
        "id": "mqS9k7jZV5TY",
        "colab": {
          "base_uri": "https://localhost:8080/"
        },
        "outputId": "f8da5b5e-c68f-4bdf-eb61-463fb9018e86"
      },
      "source": [
        "favorite_transportation=[\"honda\",\"bitween\",\"mastro\",\"deo\"]\n",
        "print(\"i would i like to travel on {}\".format(favorite_transportation[0].title()))\n",
        "print(\"i would i like to travel on {}\".format(favorite_transportation[1].title()))\n",
        "print(\"i would i like to travel on {}\".format(favorite_transportation[2].title()))\n",
        "print(\"i would i like to travel on {}\".format(favorite_transportation[3].title()))\n"
      ],
      "execution_count": null,
      "outputs": [
        {
          "output_type": "stream",
          "name": "stdout",
          "text": [
            "i would i like to travel on Honda\n",
            "i would i like to travel on Bitween\n",
            "i would i like to travel on Mastro\n",
            "i would i like to travel on Deo\n"
          ]
        }
      ]
    },
    {
      "cell_type": "markdown",
      "metadata": {
        "id": "XBXgPYI689te"
      },
      "source": [
        "# Modifications"
      ]
    },
    {
      "cell_type": "markdown",
      "metadata": {
        "id": "yjV1wjQkBXTy"
      },
      "source": [
        "Adding to list"
      ]
    },
    {
      "cell_type": "code",
      "metadata": {
        "id": "82TiG25HXwvl",
        "colab": {
          "base_uri": "https://localhost:8080/"
        },
        "outputId": "81ef6219-7e6f-496d-e6a1-cc6bd2ffc1c1"
      },
      "source": [
        "# we often use list in programing and sometimes we need to add and remove elements from list \n",
        "# list is mutable and dynamic \n",
        "# here we are useing my habbies list\n",
        "hobbies_list=[\"reading\",\"cycling\",\"net browsing\",\"randomly thincking\"]\n",
        "hobbies_list"
      ],
      "execution_count": null,
      "outputs": [
        {
          "output_type": "execute_result",
          "data": {
            "text/plain": [
              "['reading', 'cycling', 'net browsing', 'randomly thincking']"
            ]
          },
          "metadata": {},
          "execution_count": 23
        }
      ]
    },
    {
      "cell_type": "code",
      "metadata": {
        "colab": {
          "base_uri": "https://localhost:8080/"
        },
        "id": "Tlzi8rBb9n2m",
        "outputId": "68761cbb-1570-47a8-a609-b0d2ed1403a3"
      },
      "source": [
        "# modifing by using index\n",
        "hobbies_list[3]=\"walking\"\n",
        "print(\"modified list is :{}\".format(hobbies_list))"
      ],
      "execution_count": null,
      "outputs": [
        {
          "output_type": "stream",
          "name": "stdout",
          "text": [
            "modified list is :['reading', 'cycling', 'net browsing', 'walking']\n"
          ]
        }
      ]
    },
    {
      "cell_type": "markdown",
      "metadata": {
        "id": "OCWDNxoB--GJ"
      },
      "source": [
        "But we lost original information so , we have search for alternative"
      ]
    },
    {
      "cell_type": "markdown",
      "metadata": {
        "id": "lr9Ttq0n_MsQ"
      },
      "source": [
        "**list_name.append(\"new_item_name\")**"
      ]
    },
    {
      "cell_type": "code",
      "metadata": {
        "colab": {
          "base_uri": "https://localhost:8080/"
        },
        "id": "N6tdypwe-oiA",
        "outputId": "fa6e779a-05f5-4c72-d876-536b8762cc4a"
      },
      "source": [
        "hobbies_list.append(\"randomly thincking\")\n",
        "print(\"Modified list using append :{}\".format(hobbies_list))"
      ],
      "execution_count": null,
      "outputs": [
        {
          "output_type": "stream",
          "name": "stdout",
          "text": [
            "Modified list using append :['reading', 'cycling', 'net browsing', 'walking', 'randomly thincking']\n"
          ]
        }
      ]
    },
    {
      "cell_type": "markdown",
      "metadata": {
        "id": "o0_EV3_R_63t"
      },
      "source": [
        "append() mathod only add items end of list,So we need to search for alternative"
      ]
    },
    {
      "cell_type": "markdown",
      "metadata": {
        "id": "8YT_i5KtAilc"
      },
      "source": [
        "**list_name.insert(position,new_item)**"
      ]
    },
    {
      "cell_type": "code",
      "metadata": {
        "colab": {
          "base_uri": "https://localhost:8080/"
        },
        "id": "w_37WJTh_rqc",
        "outputId": "357dcf22-d91c-4127-ec6a-72857fe1807f"
      },
      "source": [
        "hobbies_list.insert(0,\"Watching_TV\")\n",
        "print(\"modified list using indert :{}\".format(hobbies_list))"
      ],
      "execution_count": null,
      "outputs": [
        {
          "output_type": "stream",
          "name": "stdout",
          "text": [
            "modified list using indert :['Watching_TV', 'reading', 'cycling', 'net browsing', 'walking', 'randomly thincking']\n"
          ]
        }
      ]
    },
    {
      "cell_type": "markdown",
      "metadata": {
        "id": "JtaJZvgMCQW1"
      },
      "source": [
        "# Remove or Delete"
      ]
    },
    {
      "cell_type": "markdown",
      "metadata": {
        "id": "_hQMva3xCdD2"
      },
      "source": [
        "first we are using **del** .it delete item perminatly"
      ]
    },
    {
      "cell_type": "code",
      "metadata": {
        "colab": {
          "base_uri": "https://localhost:8080/"
        },
        "id": "sMNClshGBOyq",
        "outputId": "e5fa97dd-f622-4023-e241-5dc29a88f43a"
      },
      "source": [
        "# By index number we can delete\n",
        "del hobbies_list[0]\n",
        "print(\"After removing first item :{}\".format(hobbies_list))"
      ],
      "execution_count": null,
      "outputs": [
        {
          "output_type": "stream",
          "name": "stdout",
          "text": [
            "After removing first item :['reading', 'cycling', 'net browsing', 'walking', 'randomly thincking']\n"
          ]
        }
      ]
    },
    {
      "cell_type": "markdown",
      "metadata": {
        "id": "e_kN3r3ODXdN"
      },
      "source": [
        "I want remove lost items,But how...?"
      ]
    },
    {
      "cell_type": "markdown",
      "metadata": {
        "id": "_5VZBxVmDsBI"
      },
      "source": [
        "# pop() \n",
        "\n",
        "pop() can remove last item list.\n",
        "\n",
        "\n",
        "\n",
        "\n"
      ]
    },
    {
      "cell_type": "code",
      "metadata": {
        "colab": {
          "base_uri": "https://localhost:8080/"
        },
        "id": "hchzIJcmC6Fe",
        "outputId": "c3ffeae4-d9b9-49d5-c5a5-eda37d47d5d9"
      },
      "source": [
        "last_item=hobbies_list.pop()\n",
        "print(last_item)\n",
        "print(\"original list : {}\".format(hobbies_list))"
      ],
      "execution_count": null,
      "outputs": [
        {
          "output_type": "stream",
          "name": "stdout",
          "text": [
            "randomly thincking\n",
            "original list : ['reading', 'cycling', 'net browsing', 'walking']\n"
          ]
        }
      ]
    },
    {
      "cell_type": "markdown",
      "metadata": {
        "id": "eIPXs8YvF-5G"
      },
      "source": [
        "pop can do by specifying index number"
      ]
    },
    {
      "cell_type": "code",
      "metadata": {
        "id": "mahx1A9QE5Rt"
      },
      "source": [
        "pop_index_2=hobbies_list.pop(2)\n",
        "pop_index_2"
      ],
      "execution_count": null,
      "outputs": []
    },
    {
      "cell_type": "code",
      "metadata": {
        "colab": {
          "base_uri": "https://localhost:8080/"
        },
        "id": "18ho6GFBFRG5",
        "outputId": "7fd418cd-ae11-4b98-e0fd-f5ef21c42d4c"
      },
      "source": [
        "# here you can see index(2) item is poped\n",
        "print(\"original list : {}\".format(hobbies_list))"
      ],
      "execution_count": null,
      "outputs": [
        {
          "output_type": "stream",
          "name": "stdout",
          "text": [
            "original list : ['reading', 'cycling', 'walking']\n"
          ]
        }
      ]
    },
    {
      "cell_type": "markdown",
      "metadata": {
        "id": "Tthcq1LtGx-I"
      },
      "source": [
        "Now we can do remove an item by specifing item name\n",
        "for that we are using\n",
        "# remove()"
      ]
    },
    {
      "cell_type": "code",
      "metadata": {
        "id": "bF1e6MabGe_x"
      },
      "source": [
        "hobbies_list.remove(\"cycling\")"
      ],
      "execution_count": null,
      "outputs": []
    },
    {
      "cell_type": "code",
      "metadata": {
        "colab": {
          "base_uri": "https://localhost:8080/"
        },
        "id": "CiMh_7qeHUYh",
        "outputId": "d01b89c8-d65f-4275-ec24-d3bbe0c9e27e"
      },
      "source": [
        "print(\"original list : {}\".format(hobbies_list))"
      ],
      "execution_count": null,
      "outputs": [
        {
          "output_type": "stream",
          "name": "stdout",
          "text": [
            "original list : ['reading', 'walking']\n"
          ]
        }
      ]
    },
    {
      "cell_type": "markdown",
      "metadata": {
        "id": "LgPnYXlLH1px"
      },
      "source": [
        "### *NOTE :remove () can remove an element first occurance of list when same item in repeat multiple times "
      ]
    },
    {
      "cell_type": "markdown",
      "metadata": {
        "id": "17T5kkPOJLYT"
      },
      "source": [
        "# Try It Yourself"
      ]
    },
    {
      "cell_type": "markdown",
      "metadata": {
        "id": "wpJmhnk_JSxv"
      },
      "source": [
        "Guest List: If you could invite anyone, living or deceased, to dinner, who \n",
        "would you invite? Make a list that includes at least three people you’d like to \n",
        "invite to dinner. Then use your list to print a message to each person, inviting \n",
        "them to dinner"
      ]
    },
    {
      "cell_type": "code",
      "metadata": {
        "colab": {
          "base_uri": "https://localhost:8080/"
        },
        "id": "mpTrX1ZOH0kt",
        "outputId": "094eb8e2-0f3d-4a4e-ff99-6c7d0f3eda3e"
      },
      "source": [
        "guest_list=[\"modi\",\"sonia gandhi\",\"rajnath singh\"]\n",
        "# printing massage \n",
        "print(\"Mr.\"+ guest_list[0] +\" \"+\"plese join as for dinner ,your presence is my honor . \\n\")\n",
        "print(\"Mr.\"+ guest_list[1] +\" \"+\"plese join as for dinner ,your presence is my honor .\\n\")\n",
        "print(\"Mr.\"+ guest_list[2] +\" \"+\"plese join as for dinner ,your presence is my honor .\\n\")\n"
      ],
      "execution_count": null,
      "outputs": [
        {
          "output_type": "stream",
          "name": "stdout",
          "text": [
            "Mr.modi plese join as for dinner ,your presence is my honor . \n",
            "\n",
            "Mr.sonia gandhi plese join as for dinner ,your presence is my honor .\n",
            "\n",
            "Mr.rajnath singh plese join as for dinner ,your presence is my honor .\n",
            "\n"
          ]
        }
      ]
    },
    {
      "cell_type": "markdown",
      "metadata": {
        "id": "znYFdrp2OYi8"
      },
      "source": [
        "Changing Guest List: You just heard that one of your guests can’t make the \n",
        "dinner, so you need to send out a new set of invitations. You’ll have to think of someone else to invite.\n",
        "•\t Start with your program from Exercise 3-4. Add a print statement at the \n",
        "end of your program stating the name of the guest who can’t make it.\n",
        "•\t Modify your list, replacing the name of the guest who can’t make it with the name of the new person you are inviting.\n",
        "•\t Print a second set of invitation messages, one for each person who is still in your lis"
      ]
    },
    {
      "cell_type": "code",
      "metadata": {
        "colab": {
          "base_uri": "https://localhost:8080/"
        },
        "id": "i-nHg7RCJ3a0",
        "outputId": "1f7e0841-c4a4-4dce-e21c-d824cdd08329"
      },
      "source": [
        "print(\"Mr.\" +guest_list[2]+ \" \"+\"i am afried hearing that you not comming to dinner\\n\")\n",
        "# adding new person\n",
        "guest_list[2]=\"nirmala\"\n",
        "print(\"Mr.\"+ guest_list[2] +\" \"+\"plese join as for dinner ,your presence is my honor .\")"
      ],
      "execution_count": null,
      "outputs": [
        {
          "output_type": "stream",
          "name": "stdout",
          "text": [
            "Mr.rajnath singh i am afried hearing that you not comming to dinner\n",
            "\n",
            "Mr.nirmala plese join as for dinner ,your presence is my honor .\n"
          ]
        }
      ]
    },
    {
      "cell_type": "markdown",
      "metadata": {
        "id": "NOIuQGE4Qw4O"
      },
      "source": [
        "# Sorting a List Permanently with the sort() Method"
      ]
    },
    {
      "cell_type": "code",
      "metadata": {
        "colab": {
          "base_uri": "https://localhost:8080/"
        },
        "id": "R8ZIdSeePSvS",
        "outputId": "ff09e55c-27a9-4094-e9b1-83f1f57df3c1"
      },
      "source": [
        "# here i will create students list\n",
        "student_list=[\"raju\",\"vivek\",\"chandu\",\"rajee\",\"akhila\",\"rachana\"]\n",
        "print(\"list of students in class room :{}\".format(student_list))"
      ],
      "execution_count": null,
      "outputs": [
        {
          "output_type": "stream",
          "name": "stdout",
          "text": [
            "list of students in class room :['raju', 'vivek', 'chandu', 'rajee', 'akhila', 'rachana']\n"
          ]
        }
      ]
    },
    {
      "cell_type": "code",
      "metadata": {
        "colab": {
          "base_uri": "https://localhost:8080/"
        },
        "id": "Vkc-thZgRMPq",
        "outputId": "6ba66dc5-999e-4444-91a1-adb7d812b313"
      },
      "source": [
        "# appling sort method\n",
        "student_list.sort()\n",
        "print(\"list of sorted students in class room :{}\".format(student_list))"
      ],
      "execution_count": null,
      "outputs": [
        {
          "output_type": "stream",
          "name": "stdout",
          "text": [
            "list of sorted students in class room :['akhila', 'chandu', 'rachana', 'rajee', 'raju', 'vivek']\n"
          ]
        }
      ]
    },
    {
      "cell_type": "code",
      "metadata": {
        "colab": {
          "base_uri": "https://localhost:8080/"
        },
        "id": "oxiSWhZeTBXw",
        "outputId": "b1ad82a0-12b8-4c59-e0cf-2e1bd1d9e8e6"
      },
      "source": [
        "#we can reverse alphabatic order\n",
        "student_list.sort(reverse=True)\n",
        "print(\"list of reserse order students in class room :{}\".format(student_list))"
      ],
      "execution_count": null,
      "outputs": [
        {
          "output_type": "stream",
          "name": "stdout",
          "text": [
            "list of reserse order students in class room :['vivek', 'raju', 'rajee', 'rachana', 'chandu', 'akhila']\n"
          ]
        }
      ]
    },
    {
      "cell_type": "markdown",
      "metadata": {
        "id": "Ed5QFZlkR547"
      },
      "source": [
        "# Sorting a List Temporarily with the sorted() Function"
      ]
    },
    {
      "cell_type": "code",
      "metadata": {
        "colab": {
          "base_uri": "https://localhost:8080/"
        },
        "id": "PiZMLEZ1RqIQ",
        "outputId": "9aff1b93-d434-414f-ec00-1ae19f48a695"
      },
      "source": [
        "cars = ['bmw', 'audi', 'toyota', 'subaru']\n",
        "print(\"Here is the original list:\")\n",
        "print(cars)\n",
        "print(\"\\nHere is the sorted list:\")\n",
        "print(sorted(cars))\n",
        "print(\"\\nHere is the original list again:\")\n",
        "print(cars)"
      ],
      "execution_count": null,
      "outputs": [
        {
          "output_type": "stream",
          "name": "stdout",
          "text": [
            "Here is the original list:\n",
            "['bmw', 'audi', 'toyota', 'subaru']\n",
            "\n",
            "Here is the sorted list:\n",
            "['audi', 'bmw', 'subaru', 'toyota']\n",
            "\n",
            "Here is the original list again:\n",
            "['bmw', 'audi', 'toyota', 'subaru']\n"
          ]
        }
      ]
    },
    {
      "cell_type": "markdown",
      "metadata": {
        "id": "WmycB_d5T1JL"
      },
      "source": [
        "# Printing a List in Reverse Order"
      ]
    },
    {
      "cell_type": "code",
      "metadata": {
        "colab": {
          "base_uri": "https://localhost:8080/"
        },
        "id": "6gUaQgGgSHTo",
        "outputId": "0fbd52f1-6ab0-41d1-983d-7662efeb93c1"
      },
      "source": [
        "print(\"original list: {}\".format(cars))\n",
        "# print(\"reverse order list :{}\".format(cars.reverse()))\n",
        "cars.reverse()\n",
        "\n",
        "print(cars)"
      ],
      "execution_count": null,
      "outputs": [
        {
          "output_type": "stream",
          "name": "stdout",
          "text": [
            "original list: ['subaru', 'toyota', 'audi', 'bmw']\n",
            "['bmw', 'audi', 'toyota', 'subaru']\n"
          ]
        }
      ]
    },
    {
      "cell_type": "markdown",
      "metadata": {
        "id": "nC5wFsW2U1aj"
      },
      "source": [
        "The reverse() method changes the order of a list permanently, but you \n",
        "can revert to the original order anytime by applying reverse() to the same \n",
        "list a second time.\n",
        "solution: we can store that list in variable like\n",
        "\n",
        "```\n",
        "# variable=cars.reverse()\n",
        "print(variable)\n",
        "```\n",
        "\n"
      ]
    },
    {
      "cell_type": "markdown",
      "metadata": {
        "id": "fQUqhAgOVUih"
      },
      "source": [
        "# Finding the Length of a List"
      ]
    },
    {
      "cell_type": "code",
      "metadata": {
        "colab": {
          "base_uri": "https://localhost:8080/"
        },
        "id": "4AjYEbylT2qM",
        "outputId": "dd2612bd-8d38-4565-d165-fb54a033e606"
      },
      "source": [
        "# lenth of the list\n",
        "len(cars)"
      ],
      "execution_count": null,
      "outputs": [
        {
          "output_type": "execute_result",
          "data": {
            "text/plain": [
              "4"
            ]
          },
          "metadata": {},
          "execution_count": 78
        }
      ]
    },
    {
      "cell_type": "markdown",
      "metadata": {
        "id": "_-mRL_FRV0so"
      },
      "source": [
        "Python counts the items in a list starting with one, so you shouldn’t run into any off\u0002by-one errors when determining the length of a list.\n"
      ]
    },
    {
      "cell_type": "code",
      "metadata": {
        "id": "KTYVcVsYVzX9"
      },
      "source": [
        ""
      ],
      "execution_count": null,
      "outputs": []
    }
  ]
}