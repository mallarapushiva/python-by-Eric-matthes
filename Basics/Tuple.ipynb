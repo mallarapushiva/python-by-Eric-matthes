{
  "nbformat": 4,
  "nbformat_minor": 0,
  "metadata": {
    "colab": {
      "name": "Tuple.ipynb",
      "provenance": [],
      "authorship_tag": "ABX9TyNgT3VD0Asgje2JGGR9g1cQ",
      "include_colab_link": true
    },
    "kernelspec": {
      "name": "python3",
      "display_name": "Python 3"
    },
    "language_info": {
      "name": "python"
    }
  },
  "cells": [
    {
      "cell_type": "markdown",
      "metadata": {
        "id": "view-in-github",
        "colab_type": "text"
      },
      "source": [
        "<a href=\"https://colab.research.google.com/github/mallarapushiva/python-by-Eric-matthes/blob/main/Basics/Tuple.ipynb\" target=\"_parent\"><img src=\"https://colab.research.google.com/assets/colab-badge.svg\" alt=\"Open In Colab\"/></a>"
      ]
    },
    {
      "cell_type": "markdown",
      "metadata": {
        "id": "KEac-IqHSzzL"
      },
      "source": [
        "# Tuple()"
      ]
    },
    {
      "cell_type": "markdown",
      "metadata": {
        "id": "ML9bWfCoS44f"
      },
      "source": [
        "Tuple is just like list but it is immutable and camma separated value"
      ]
    },
    {
      "cell_type": "code",
      "metadata": {
        "colab": {
          "base_uri": "https://localhost:8080/"
        },
        "id": "r8b0FMiaSt_Q",
        "outputId": "ed6ef268-493f-4209-d335-1d3a725bc2b2"
      },
      "source": [
        "manu=(\"chicken\",\"veg\",\"cool drink\")\n",
        "type(manu)"
      ],
      "execution_count": null,
      "outputs": [
        {
          "output_type": "execute_result",
          "data": {
            "text/plain": [
              "tuple"
            ]
          },
          "metadata": {},
          "execution_count": 1
        }
      ]
    },
    {
      "cell_type": "markdown",
      "metadata": {
        "id": "PTN28XN9TjBM"
      },
      "source": [
        "Use a for loop to print each food the restaurant offers."
      ]
    },
    {
      "cell_type": "code",
      "metadata": {
        "colab": {
          "base_uri": "https://localhost:8080/"
        },
        "id": "38_Pvmo0Syom",
        "outputId": "aebbf68c-8cc7-43be-e8f9-876727381e87"
      },
      "source": [
        "for i,value in enumerate(manu):\n",
        "  print(i,value)"
      ],
      "execution_count": null,
      "outputs": [
        {
          "output_type": "stream",
          "name": "stdout",
          "text": [
            "0 chicken\n",
            "1 veg\n",
            "2 cool drink\n"
          ]
        }
      ]
    },
    {
      "cell_type": "markdown",
      "metadata": {
        "id": "QUiKP5NwT8xY"
      },
      "source": [
        "Try to modify one of the items, and make sure that Python rejects the \n",
        "change\n",
        "# Tuple is immutable"
      ]
    },
    {
      "cell_type": "code",
      "metadata": {
        "colab": {
          "base_uri": "https://localhost:8080/",
          "height": 183
        },
        "id": "vk6X5IdhSyrp",
        "outputId": "eb9a4bbc-efa1-4bf6-9902-c07d1d6936e6"
      },
      "source": [
        "# make a an error\n",
        "manu[0]=\"curry\""
      ],
      "execution_count": null,
      "outputs": [
        {
          "output_type": "error",
          "ename": "TypeError",
          "evalue": "ignored",
          "traceback": [
            "\u001b[0;31m---------------------------------------------------------------------------\u001b[0m",
            "\u001b[0;31mTypeError\u001b[0m                                 Traceback (most recent call last)",
            "\u001b[0;32m<ipython-input-7-429a9c217e7a>\u001b[0m in \u001b[0;36m<module>\u001b[0;34m()\u001b[0m\n\u001b[1;32m      1\u001b[0m \u001b[0;31m# make a an error\u001b[0m\u001b[0;34m\u001b[0m\u001b[0;34m\u001b[0m\u001b[0;34m\u001b[0m\u001b[0m\n\u001b[0;32m----> 2\u001b[0;31m \u001b[0mmanu\u001b[0m\u001b[0;34m[\u001b[0m\u001b[0;36m0\u001b[0m\u001b[0;34m]\u001b[0m\u001b[0;34m=\u001b[0m\u001b[0;34m\"curry\"\u001b[0m\u001b[0;34m\u001b[0m\u001b[0;34m\u001b[0m\u001b[0m\n\u001b[0m",
            "\u001b[0;31mTypeError\u001b[0m: 'tuple' object does not support item assignment"
          ]
        }
      ]
    },
    {
      "cell_type": "markdown",
      "metadata": {
        "id": "FeOB3FZyUpV0"
      },
      "source": [
        "\t The restaurant changes its menu, replacing two of the items with different \n",
        "foods. Add a block of code that rewrites the tuple, and then use a for\n",
        "loop to print each of the items on the revised menu"
      ]
    },
    {
      "cell_type": "code",
      "metadata": {
        "colab": {
          "base_uri": "https://localhost:8080/"
        },
        "id": "YtKlBT3tSytp",
        "outputId": "710d37f4-579a-4949-d75f-6487c55b73d0"
      },
      "source": [
        "# by changing variable we can change the tuple values\n",
        "manu_1=(\"chicken_fry\",\"veg_fry\",\"cool drink\")\n",
        "for i,value in enumerate(manu_1):\n",
        "  print(\"new {0} is iten:{1}\".format(i,value))"
      ],
      "execution_count": null,
      "outputs": [
        {
          "output_type": "stream",
          "name": "stdout",
          "text": [
            "new 0 is iten:chicken_fry\n",
            "new 1 is iten:veg_fry\n",
            "new 2 is iten:cool drink\n"
          ]
        }
      ]
    },
    {
      "cell_type": "code",
      "metadata": {
        "id": "Z_kAS3PjSyxZ"
      },
      "source": [
        ""
      ],
      "execution_count": null,
      "outputs": []
    }
  ]
}