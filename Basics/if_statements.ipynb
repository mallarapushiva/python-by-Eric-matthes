{
  "nbformat": 4,
  "nbformat_minor": 0,
  "metadata": {
    "colab": {
      "name": "if statements.ipynb",
      "provenance": [],
      "collapsed_sections": [],
      "authorship_tag": "ABX9TyNN6Fcv9NeFd8cmXEWBWxtN",
      "include_colab_link": true
    },
    "kernelspec": {
      "name": "python3",
      "display_name": "Python 3"
    },
    "language_info": {
      "name": "python"
    }
  },
  "cells": [
    {
      "cell_type": "markdown",
      "metadata": {
        "id": "view-in-github",
        "colab_type": "text"
      },
      "source": [
        "<a href=\"https://colab.research.google.com/github/mallarapushiva/python-by-Eric-matthes/blob/main/Basics/if_statements.ipynb\" target=\"_parent\"><img src=\"https://colab.research.google.com/assets/colab-badge.svg\" alt=\"Open In Colab\"/></a>"
      ]
    },
    {
      "cell_type": "markdown",
      "metadata": {
        "id": "fenb6-bI0odu"
      },
      "source": [
        "# if statement"
      ]
    },
    {
      "cell_type": "markdown",
      "metadata": {
        "id": "TtIWxKvW0tIB"
      },
      "source": [
        "Its is one of the conditional statements"
      ]
    },
    {
      "cell_type": "markdown",
      "metadata": {
        "id": "wuUyaVo31Jn5"
      },
      "source": [
        "# Try it your self"
      ]
    },
    {
      "cell_type": "markdown",
      "metadata": {
        "id": "OuD1gEvV1jbl"
      },
      "source": [
        " Conditional Tests: Write a series of conditional tests. Print a statement \n",
        "describing each test and your prediction for the results of each test. Your code \n",
        "should look something like this"
      ]
    },
    {
      "cell_type": "code",
      "metadata": {
        "colab": {
          "base_uri": "https://localhost:8080/"
        },
        "id": "YIG8NWEg0caY",
        "outputId": "f70dc505-5bf4-47ba-8c7d-96b988e8ff31"
      },
      "source": [
        "# car = 'subaru'\n",
        "# print(\"Is car == 'subaru'? I predict True.\")\n",
        "# print(car == 'subaru')\n",
        "##code here\n",
        "car ='subaru'\n",
        "if car==\"subaru\":\n",
        "  print(\"car is equal to :subaru\")\n"
      ],
      "execution_count": 3,
      "outputs": [
        {
          "output_type": "stream",
          "name": "stdout",
          "text": [
            "car is equal to :subaru\n"
          ]
        }
      ]
    },
    {
      "cell_type": "code",
      "metadata": {
        "colab": {
          "base_uri": "https://localhost:8080/"
        },
        "id": "Uh2WSvfv1fFt",
        "outputId": "e5f8beea-cbdb-4ac1-9f3d-d6c7cdb41bc0"
      },
      "source": [
        "# print(\"\\nIs car == 'audi'? I predict False.\")\n",
        "# print(car == 'audi')\n",
        "# code here\n",
        "car =\"subaru\"\n",
        "# if car==\"audi\":\n",
        "  # print(\"\")\n",
        "  # print(\"i predict false\")\n",
        "print(car==\"audi\")"
      ],
      "execution_count": 11,
      "outputs": [
        {
          "output_type": "stream",
          "name": "stdout",
          "text": [
            "False\n"
          ]
        }
      ]
    },
    {
      "cell_type": "markdown",
      "metadata": {
        "id": "0zwn-Kdi6XGQ"
      },
      "source": [
        "Tests for equality and inequality with strings"
      ]
    },
    {
      "cell_type": "code",
      "metadata": {
        "colab": {
          "base_uri": "https://localhost:8080/"
        },
        "id": "iHPD2lHW2t5n",
        "outputId": "2db2cf68-e243-4f58-d923-758cc9dcb2d9"
      },
      "source": [
        "name =\"shiva\"\n",
        "if name==\"shiva\":\n",
        "  print(\"right prediction\")\n",
        "# inequality\n",
        "if name==\"raju\":\n",
        "  print(\"predition is wrong\") # it will not show because condition is not saticefied\n"
      ],
      "execution_count": 15,
      "outputs": [
        {
          "output_type": "stream",
          "name": "stdout",
          "text": [
            "right prediction\n"
          ]
        }
      ]
    },
    {
      "cell_type": "markdown",
      "metadata": {
        "id": "CPMzplCD70JD"
      },
      "source": [
        "Tests using the lower() function"
      ]
    },
    {
      "cell_type": "code",
      "metadata": {
        "colab": {
          "base_uri": "https://localhost:8080/"
        },
        "id": "r_PiNaN47ITB",
        "outputId": "b29b22d6-bcf5-4c26-88fb-d544c985d343"
      },
      "source": [
        "# first later is upper case\n",
        "car_1=\"Suziki\"\n",
        "# lower case\n",
        "print(car_1==\"suziki\")\n",
        "# using lower case\n",
        "print(car_1.lower()==\"suziki\")#   it print TRUE -->by using lower() function\n"
      ],
      "execution_count": 20,
      "outputs": [
        {
          "output_type": "stream",
          "name": "stdout",
          "text": [
            "False\n",
            "True\n"
          ]
        }
      ]
    },
    {
      "cell_type": "markdown",
      "metadata": {
        "id": "H_wHBa1e7zWW"
      },
      "source": [
        "# simple if statement"
      ]
    },
    {
      "cell_type": "markdown",
      "metadata": {
        "id": "5vU4lTSJCPDd"
      },
      "source": [
        "Here simple if statement would look like this"
      ]
    },
    {
      "cell_type": "code",
      "metadata": {
        "colab": {
          "base_uri": "https://localhost:8080/"
        },
        "id": "wf0zcEXTCNvY",
        "outputId": "8482b1d4-2197-4e3e-b416-90418fc31c9a"
      },
      "source": [
        "age=18\n",
        "if age>=18:\n",
        "  print(\"You are eligible to VOTE\")"
      ],
      "execution_count": 22,
      "outputs": [
        {
          "output_type": "stream",
          "name": "stdout",
          "text": [
            "You are eligible to VOTE\n"
          ]
        }
      ]
    },
    {
      "cell_type": "markdown",
      "metadata": {
        "id": "uqigsJ_NDG1m"
      },
      "source": [
        "somethime we need to check 2 statements ,Then we can use **if elif ** \n"
      ]
    },
    {
      "cell_type": "code",
      "metadata": {
        "colab": {
          "base_uri": "https://localhost:8080/"
        },
        "id": "cfIWOzr5C7mu",
        "outputId": "2ee67472-1742-4249-fe05-368f8aa25b45"
      },
      "source": [
        "age=18\n",
        "if age>=18:\n",
        "  print(\"You are eligible to VOTE\")\n",
        "elif age<18:\n",
        "  print(\"You are NOT eligible to VOTE\")\n"
      ],
      "execution_count": 23,
      "outputs": [
        {
          "output_type": "stream",
          "name": "stdout",
          "text": [
            "You are eligible to VOTE\n"
          ]
        }
      ]
    },
    {
      "cell_type": "code",
      "metadata": {
        "colab": {
          "base_uri": "https://localhost:8080/"
        },
        "id": "XaQkYzNLE0Jd",
        "outputId": "b90095aa-f175-4701-d412-2a77817f591a"
      },
      "source": [
        " requested_toppings = ['mushrooms', 'extra cheese']\n",
        " if 'mushrooms' in requested_toppings:\n",
        "   print(\"Adding mushrooms.\")\n",
        " if 'pepperoni' in requested_toppings:\n",
        "   print(\"Adding pepperoni.\")\n",
        " if 'extra cheese' in requested_toppings:\n",
        "   print(\"Adding extra cheese.\")"
      ],
      "execution_count": 27,
      "outputs": [
        {
          "output_type": "stream",
          "name": "stdout",
          "text": [
            "Adding mushrooms.\n",
            "Adding extra cheese.\n"
          ]
        }
      ]
    },
    {
      "cell_type": "markdown",
      "metadata": {
        "id": "BK16Kn2uFm7T"
      },
      "source": [
        "# TRY THIS\n"
      ]
    },
    {
      "cell_type": "markdown",
      "metadata": {
        "id": "iBNfB5fBEtaG"
      },
      "source": [
        "In summary, if you want only one block of code to run, use an if-elif\u0002else chain. If more than one block of code needs to run, use a series of \n",
        "independent if statements"
      ]
    },
    {
      "cell_type": "markdown",
      "metadata": {
        "id": "jgnBfYeoFb8R"
      },
      "source": [
        " Alien Colors #1: Imagine an alien was just shot down in a game. Create a \n",
        "variable called alien_color and assign it a value of 'green', 'yellow', or 'red'.\n",
        "\n",
        "•\t Write an if statement to test whether the alien’s color is green. If it is, print a message that the player just earned 5 points.\n",
        "\n",
        "•\t Write one version of this program that passes the if test and another that fails. (The version that fails will have no output.)"
      ]
    },
    {
      "cell_type": "code",
      "metadata": {
        "colab": {
          "base_uri": "https://localhost:8080/"
        },
        "id": "DWygI7IaEnxl",
        "outputId": "cb750a72-efe9-428c-bb1e-116051608105"
      },
      "source": [
        "alien_color=[\"green\",\"yellow\",\"red\"]\n",
        "if \"green\" in alien_color:\n",
        "  print(\"the player just earned 5 points\")\n",
        "elif \"blue\" in alien_color:#it is not true it is not display inner block\n",
        "  print(\"here not display anything\") #it is not "
      ],
      "execution_count": 35,
      "outputs": [
        {
          "output_type": "stream",
          "name": "stdout",
          "text": [
            "the player just earned 5 points\n"
          ]
        }
      ]
    },
    {
      "cell_type": "markdown",
      "metadata": {
        "id": "HE7zqPj1MmBS"
      },
      "source": [
        "If the alien is green, print a message that the player earned 5 points.\n",
        "\n",
        "•\t If the alien is yellow, print a message that the player earned 10 points.\n",
        "\n",
        "•\t If the alien is red, print a message that the player earned 15 points.\n",
        "\n",
        "•\t Write three versions of this program, making sure each message is printed \n",
        "for the appropriate color alien."
      ]
    },
    {
      "cell_type": "code",
      "metadata": {
        "colab": {
          "base_uri": "https://localhost:8080/"
        },
        "id": "Wn4ZV9bpJfM5",
        "outputId": "d603687b-ef80-4ccc-9464-ea8579119318"
      },
      "source": [
        "alien_color=[\"green\",\"yellow\",\"red\"]\n",
        "if \"green\" in alien_color:\n",
        "  print(\"the player just earned 5 points\")\n",
        "print(\"second version:\")\n",
        "\n",
        "if \"yellow\" in alien_color:\n",
        "  print(\" the player earned 10 points\")\n",
        "print(\"third version:\")\n",
        "if \"red\" in alien_color:\n",
        "  print(\" the player earned 15 points\")"
      ],
      "execution_count": 41,
      "outputs": [
        {
          "output_type": "stream",
          "name": "stdout",
          "text": [
            "the player just earned 5 points\n",
            "second version:\n",
            " the player earned 10 points\n",
            "third version:\n",
            " the player earned 15 points\n"
          ]
        }
      ]
    },
    {
      "cell_type": "markdown",
      "metadata": {
        "id": "CJBxi62FOGZ4"
      },
      "source": [
        "5-6. Stages of Life: Write an if-elif-else chain that determines a person’s \n",
        "stage of life. Set a value for the variable age, and then:\n",
        "\n",
        "•\t If the person is less than 2 years old, print a message that the person is \n",
        "a baby.\n",
        "\n",
        "•\t If the person is at least 2 years old but less than 4, print a message that \n",
        "the person is a toddler.\n",
        "\n",
        "•\t If the person is at least 4 years old but less than 13, print a message that \n",
        "the person is a kid.\n",
        "\n",
        "•\t If the person is at least 13 years old but less than 20, print a message that \n",
        "the person is a teenager.\n",
        "\n",
        "•\t If the person is at least 20 years old but less than 65, print a message that \n",
        "the person is an adult.\n",
        "\n",
        "•\t If the person is age 65 or older, print a message that the person is an \n",
        "elder."
      ]
    },
    {
      "cell_type": "code",
      "metadata": {
        "colab": {
          "base_uri": "https://localhost:8080/"
        },
        "id": "IutfOnDUNYQL",
        "outputId": "b3fca7e0-d1a5-4dd2-d8a0-6c9ebcf9c68c"
      },
      "source": [
        "age=18\n",
        "if age<2:\n",
        "  print(\"the person is baby\")\n",
        "elif age<4:\n",
        "  print(\"person is a toddler\")\n",
        "elif age<13:\n",
        "  print(\"person is kid\")\n",
        "elif age<20:\n",
        "  print(\"person is teenager\")\n",
        "elif age<65:\n",
        "  print(\"person is adult\")\n",
        "else:\n",
        "  print(\"person is elder\")\n"
      ],
      "execution_count": 42,
      "outputs": [
        {
          "output_type": "stream",
          "name": "stdout",
          "text": [
            "person is teenager\n"
          ]
        }
      ]
    },
    {
      "cell_type": "markdown",
      "metadata": {
        "id": "YwMtqO7ZPe3v"
      },
      "source": [
        "5-7. Favorite Fruit: Make a list of your favorite fruits, and then write a series of \n",
        "independent if statements that check for certain fruits in your list.\n",
        "\n",
        "•\t Make a list of your three favorite fruits and call it favorite_fruits.\n",
        "\n",
        "•\t Write five if statements. Each should check whether a certain kind of fruit \n",
        "is in your list.\n",
        "\n",
        " If the fruit is in your list, the if block should print a statement, \n",
        "such as You really like bananas!"
      ]
    },
    {
      "cell_type": "code",
      "metadata": {
        "colab": {
          "base_uri": "https://localhost:8080/"
        },
        "id": "n0ngN6GjPZxj",
        "outputId": "f7743ab3-d1fb-4ac4-943a-5f57bacdd6bd"
      },
      "source": [
        "# creating list\n",
        "favorite_fruits=[\"mango\",\"banana\",\"apple\"]\n",
        "if \"mango\" in favorite_fruits:\n",
        "  print(\"it is in my favorite fruits list\\n\")\n",
        "if \"banana\" in favorite_fruits:\n",
        "  print(\"it is in my favorite fruits list\\n\")\n",
        "if \"apple\" in favorite_fruits:\n",
        "  print(\"it is in my favorite fruits list\\n\")\n",
        "\n",
        "if \"oranges\" in favorite_fruits:\n",
        "  # it is not display block code because is False\n",
        "  print(\"it is in my favorite fruits list\")\n",
        "if \"corn\" in favorite_fruits:\n",
        "  # it is not display block code because is False\n",
        "  print(\"it is in my favorite fruits list\")"
      ],
      "execution_count": 44,
      "outputs": [
        {
          "output_type": "stream",
          "name": "stdout",
          "text": [
            "it is in my favorite fruits list\n",
            "\n",
            "it is in my favorite fruits list\n",
            "\n",
            "it is in my favorite fruits list\n",
            "\n"
          ]
        }
      ]
    },
    {
      "cell_type": "markdown",
      "metadata": {
        "id": "DXZYnju0RbHc"
      },
      "source": [
        "# Using if Statements with Lists"
      ]
    },
    {
      "cell_type": "code",
      "metadata": {
        "colab": {
          "base_uri": "https://localhost:8080/"
        },
        "id": "pKcOg8PlRE1Z",
        "outputId": "3c404292-4d15-4787-d725-476136f485f1"
      },
      "source": [
        " requested_toppings = ['mushrooms', 'green peppers', 'extra cheese']\n",
        "for topping in requested_toppings:\n",
        "  if topping==\"green_pappers\":\n",
        "    print(\"sorry to say this green papper is not available\")\n",
        "  print(\"adding \" + topping + \" .\")"
      ],
      "execution_count": 45,
      "outputs": [
        {
          "output_type": "stream",
          "name": "stdout",
          "text": [
            "adding mushrooms .\n",
            "adding green peppers .\n",
            "adding extra cheese .\n"
          ]
        }
      ]
    },
    {
      "cell_type": "markdown",
      "metadata": {
        "id": "fcyLM52zcCfQ"
      },
      "source": [
        "5-8. Hello Admin: Make a list of five or more usernames, including the name \n",
        "'admin'. \n",
        "\n",
        "Imagine you are writing code that will print a greeting to each user \n",
        "after they log in to a website. \n",
        "\n",
        "Loop through the list, and print a greeting to \n",
        "each user:\n",
        "\n",
        "•\t If the username is 'admin', print a special greeting, such as Hello admin, \n",
        "would you like to see a status report?\n",
        "\n",
        "•\t Otherwise, print a generic greeting, such as Hello Eric, thank you for log\u0002ging in again."
      ]
    },
    {
      "cell_type": "code",
      "metadata": {
        "colab": {
          "base_uri": "https://localhost:8080/"
        },
        "id": "CmGjlJ45bWcz",
        "outputId": "f220ce81-98fa-4949-d022-10cc018b4b95"
      },
      "source": [
        "# creating username\n",
        "username=[\"admin\",\"eric\",\"matthes\",\"nithyaja\"]\n",
        "for user in username:\n",
        "  if user == \"admin\":\n",
        "    print(\"Hello admin, would you like to see a status report\\n\")\n",
        "  print(\"hello \" +  user +\"thank you for logging in againg\\n\")"
      ],
      "execution_count": 48,
      "outputs": [
        {
          "output_type": "stream",
          "name": "stdout",
          "text": [
            "Hello admin, would you like to see a status report\n",
            "\n",
            "hello adminthank you for logging in againg\n",
            "\n",
            "hello ericthank you for logging in againg\n",
            "\n",
            "hello matthesthank you for logging in againg\n",
            "\n",
            "hello nithyajathank you for logging in againg\n",
            "\n"
          ]
        }
      ]
    },
    {
      "cell_type": "markdown",
      "metadata": {
        "id": "kRqsw4FJeOy6"
      },
      "source": [
        "Checking Usernames: Do the following to create a program that simulates \n",
        "how websites ensure that everyone has a unique username.\n",
        "\n",
        "•\t Make a list of five or more usernames called current_users.\n",
        "\n",
        "•\t Make another list of five usernames called new_users. Make sure one or \n",
        "two of the new usernames are also in the current_users list.\n",
        "\n",
        "•\t Loop through the new_users list to see if each new username has already \n",
        "been used. If it has, print a message that the person will need to enter a \n",
        "new username. If a username has not been used, print a message saying \n",
        "that the username is available.\n",
        "\n",
        "•\t Make sure your comparison is case insensitive. If 'John' has been used, \n",
        "'JOHN' should not be accepted."
      ]
    },
    {
      "cell_type": "code",
      "metadata": {
        "colab": {
          "base_uri": "https://localhost:8080/"
        },
        "id": "6XdxjXgxdGB6",
        "outputId": "07df2023-681b-4db9-d75e-74219d64c1d9"
      },
      "source": [
        "# current_user\n",
        "current_user=['shiva','raju',\"Vivek\",\"chandu\"]\n",
        "new_users=[\"SHIVA\",\"raju\",\"sharath\"]\n",
        "for user in new_users:\n",
        "  if user.lower() in current_user:\n",
        "    print(user.lower() +\" It is already exist you need enter new username\")\n",
        "  else: \n",
        "    print(user+ \" username is available\")"
      ],
      "execution_count": 60,
      "outputs": [
        {
          "output_type": "stream",
          "name": "stdout",
          "text": [
            "shiva It is already exist you need enter new username\n",
            "raju It is already exist you need enter new username\n",
            "sharath username is available\n"
          ]
        }
      ]
    },
    {
      "cell_type": "markdown",
      "metadata": {
        "id": "0_QLuwXkhq9X"
      },
      "source": [
        "Ordinal Numbers: Ordinal numbers indicate their position in a list, such \n",
        "as 1st or 2nd. Most ordinal numbers end in th, except 1, 2, and 3.\n",
        "\n",
        "•\t Store the numbers 1 through 9 in a list.\n",
        "\n",
        "•\t Loop through the list.\n",
        "\n",
        "•\t Use an if-elif-else chain inside the loop to print the proper ordinal end\u0002ing for each number. Your output should read \"1st 2nd 3rd 4th 5th 6th \n",
        "7th 8th 9th\", and each result should be on a separate line.\n"
      ]
    },
    {
      "cell_type": "code",
      "metadata": {
        "colab": {
          "base_uri": "https://localhost:8080/"
        },
        "id": "pYVMx5NigQ-i",
        "outputId": "be2b477c-711b-4927-efb1-85bf4740a463"
      },
      "source": [
        "numbers=list(range(1,10)) #1 to 9 numbers\n",
        "for num in numbers:\n",
        "  if num == 1:\n",
        "    print(\"1st\")\n",
        "  elif num == 2:\n",
        "    print(\"2nd\")\n",
        "  elif num == 3:\n",
        "    print(\"3rd\")\n",
        "  else:\n",
        "    print(f\"{num}th\")  "
      ],
      "execution_count": 68,
      "outputs": [
        {
          "output_type": "stream",
          "name": "stdout",
          "text": [
            "1st\n",
            "2nd\n",
            "3rd\n",
            "4th\n",
            "5th\n",
            "6th\n",
            "7th\n",
            "8th\n",
            "9th\n"
          ]
        }
      ]
    },
    {
      "cell_type": "code",
      "metadata": {
        "id": "tvG64JZligbf"
      },
      "source": [
        ""
      ],
      "execution_count": null,
      "outputs": []
    }
  ]
}